{
  "cells": [
    {
      "cell_type": "markdown",
      "metadata": {
        "id": "HxkPSYkjTe_T"
      },
      "source": [
        "**Condicional Simples**"
      ]
    },
    {
      "cell_type": "code",
      "source": [],
      "metadata": {
        "id": "FWNs3hYFp-7P"
      },
      "execution_count": null,
      "outputs": []
    },
    {
      "cell_type": "code",
      "execution_count": null,
      "metadata": {
        "colab": {
          "base_uri": "https://localhost:8080/",
          "height": 200
        },
        "id": "Iv5FMeg0TiZ7",
        "outputId": "36c1b1ae-f16d-42b1-d3ec-712f0b1f73ac"
      },
      "outputs": [
        {
          "ename": "SyntaxError",
          "evalue": "ignored",
          "output_type": "error",
          "traceback": [
            "\u001b[0;36m  File \u001b[0;32m\"<ipython-input-1-67ed9dfdf957>\"\u001b[0;36m, line \u001b[0;32m2\u001b[0m\n\u001b[0;31m    y = int(input('Digite um segundo valor inteiro.1\u001b[0m\n\u001b[0m                                                    ^\u001b[0m\n\u001b[0;31mSyntaxError\u001b[0m\u001b[0;31m:\u001b[0m EOL while scanning string literal\n"
          ]
        }
      ],
      "source": [
        "x = int(input('Digite um valor inteiro.'))\n",
        "y = int(input('Digite um segundo valor inteiro.1\n",
        "'))\n",
        "if(x > y):\n",
        "  print('O primeiro valor é o maior que o segundo')"
      ]
    },
    {
      "cell_type": "markdown",
      "metadata": {
        "id": "LYLGpWzEUjF1"
      },
      "source": [
        "**Condicional Composta**\n",
        "**negrito**"
      ]
    },
    {
      "cell_type": "code",
      "execution_count": null,
      "metadata": {
        "colab": {
          "base_uri": "https://localhost:8080/",
          "height": 263
        },
        "id": "6-otNW0jUrTr",
        "outputId": "abbce59f-f977-4424-dc90-80cd9494e081"
      },
      "outputs": [
        {
          "name": "stdout",
          "output_type": "stream",
          "text": [
            "Digite um valor inteiro:10\n"
          ]
        },
        {
          "ename": "TypeError",
          "evalue": "ignored",
          "output_type": "error",
          "traceback": [
            "\u001b[0;31m---------------------------------------------------------------------------\u001b[0m",
            "\u001b[0;31mTypeError\u001b[0m                                 Traceback (most recent call last)",
            "\u001b[0;32m<ipython-input-77-4d7cae84d9a7>\u001b[0m in \u001b[0;36m<module>\u001b[0;34m()\u001b[0m\n\u001b[1;32m      1\u001b[0m \u001b[0mx\u001b[0m \u001b[0;34m=\u001b[0m \u001b[0mint\u001b[0m\u001b[0;34m(\u001b[0m\u001b[0minput\u001b[0m\u001b[0;34m(\u001b[0m\u001b[0;34m'Digite um valor inteiro:'\u001b[0m\u001b[0;34m)\u001b[0m\u001b[0;34m)\u001b[0m\u001b[0;34m\u001b[0m\u001b[0;34m\u001b[0m\u001b[0m\n\u001b[1;32m      2\u001b[0m \u001b[0;32mif\u001b[0m \u001b[0;34m(\u001b[0m\u001b[0mx\u001b[0m \u001b[0;34m%\u001b[0m \u001b[0;36m2\u001b[0m \u001b[0;34m==\u001b[0m \u001b[0;36m0\u001b[0m\u001b[0;34m)\u001b[0m\u001b[0;34m:\u001b[0m\u001b[0;34m\u001b[0m\u001b[0;34m\u001b[0m\u001b[0m\n\u001b[0;32m----> 3\u001b[0;31m   \u001b[0mprint\u001b[0m\u001b[0;34m(\u001b[0m\u001b[0;34m'O numero é par! '\u001b[0m\u001b[0;34m)\u001b[0m\u001b[0;34m\u001b[0m\u001b[0;34m\u001b[0m\u001b[0m\n\u001b[0m\u001b[1;32m      4\u001b[0m \u001b[0;32melse\u001b[0m\u001b[0;34m:\u001b[0m\u001b[0;34m\u001b[0m\u001b[0;34m\u001b[0m\u001b[0m\n\u001b[1;32m      5\u001b[0m   \u001b[0mprint\u001b[0m\u001b[0;34m(\u001b[0m\u001b[0;34m'O numero é impar!'\u001b[0m\u001b[0;34m)\u001b[0m\u001b[0;34m\u001b[0m\u001b[0;34m\u001b[0m\u001b[0m\n",
            "\u001b[0;31mTypeError\u001b[0m: 'tuple' object is not callable"
          ]
        }
      ],
      "source": [
        "x = int(input('Digite um valor inteiro:'))\n",
        "if (x % 2 == 0):\n",
        "  print('O numero é par! ')\n",
        "else:\n",
        "  print('O numero é impar!')"
      ]
    },
    {
      "cell_type": "markdown",
      "metadata": {
        "id": "l7-b3zjMW4P2"
      },
      "source": [
        "Teste"
      ]
    },
    {
      "cell_type": "code",
      "execution_count": null,
      "metadata": {
        "colab": {
          "base_uri": "https://localhost:8080/"
        },
        "id": "lLEZ0rsXW5ZE",
        "outputId": "4aae26c0-2b25-46fa-823c-6f3cfc63f035"
      },
      "outputs": [
        {
          "name": "stdout",
          "output_type": "stream",
          "text": [
            "Digige um valor inteiro: 545641515\n",
            "Digite outro valor inteiro: 8965656\n",
            "O primeiro valor é maior!\n"
          ]
        }
      ],
      "source": [
        "x = int(input('Digige um valor inteiro: '))                             \n",
        "y = int(input('Digite outro valor inteiro: '))\n",
        "if(x > y):\n",
        "  print('O primeiro valor é maior!')\n",
        "else: \n",
        "  print('O segundo valor é maior')"
      ]
    },
    {
      "cell_type": "markdown",
      "metadata": {
        "id": "jyABsmBkbAqZ"
      },
      "source": [
        "**Operadores Lógicos/Booleanos**\n"
      ]
    },
    {
      "cell_type": "code",
      "execution_count": null,
      "metadata": {
        "colab": {
          "base_uri": "https://localhost:8080/"
        },
        "id": "7uGr4Y8HdDlA",
        "outputId": "695b164e-0c59-4bf4-a9b7-03e8481b13ba"
      },
      "outputs": [
        {
          "name": "stdout",
          "output_type": "stream",
          "text": [
            "False\n",
            "True\n"
          ]
        }
      ],
      "source": [
        "1  # Not\n",
        "x = True\n",
        "y = False\n",
        "print(not x)\n",
        "print(not y)\n"
      ]
    },
    {
      "cell_type": "code",
      "execution_count": null,
      "metadata": {
        "colab": {
          "base_uri": "https://localhost:8080/"
        },
        "id": "3O2FaIWSdP9k",
        "outputId": "ed75fc23-5024-40d5-f43c-8bc2f9aedb6e"
      },
      "outputs": [
        {
          "name": "stdout",
          "output_type": "stream",
          "text": [
            "False\n"
          ]
        }
      ],
      "source": [
        "2 # And\n",
        "x = True\n",
        "y = False\n",
        "print(x and y)\n",
        "\n"
      ]
    },
    {
      "cell_type": "code",
      "execution_count": null,
      "metadata": {
        "colab": {
          "base_uri": "https://localhost:8080/"
        },
        "id": "8RpeepNmdcQq",
        "outputId": "fed4e1eb-ea4b-44fe-e0f1-f793ac847bc7"
      },
      "outputs": [
        {
          "name": "stdout",
          "output_type": "stream",
          "text": [
            "True\n"
          ]
        }
      ],
      "source": [
        "4 # Or\n",
        "x = True\n",
        "y = False\n",
        "print(x or y)"
      ]
    },
    {
      "cell_type": "markdown",
      "metadata": {
        "id": "SLpPGN2FfE6Y"
      },
      "source": [
        "**Expressoes Lógicas/ Booleanas**"
      ]
    },
    {
      "cell_type": "code",
      "execution_count": null,
      "metadata": {
        "colab": {
          "base_uri": "https://localhost:8080/"
        },
        "id": "uO0dy7mdfd9_",
        "outputId": "3573f124-e93e-47c3-cd23-e08962cfe2c8"
      },
      "outputs": [
        {
          "name": "stdout",
          "output_type": "stream",
          "text": [
            "False\n"
          ]
        }
      ],
      "source": [
        "x = 10\n",
        "y = 1\n",
        "res = not x > y\n",
        "print(res)"
      ]
    },
    {
      "cell_type": "code",
      "execution_count": null,
      "metadata": {
        "colab": {
          "base_uri": "https://localhost:8080/"
        },
        "id": "zK6BkVZsfniV",
        "outputId": "30df38d3-5ce6-4456-9098-46b86e126f0f"
      },
      "outputs": [
        {
          "name": "stdout",
          "output_type": "stream",
          "text": [
            "False\n"
          ]
        }
      ],
      "source": [
        "x = 10\n",
        "y = 1\n",
        "z = 5.5\n",
        "res = x > y and z == y\n",
        "print(res)"
      ]
    },
    {
      "cell_type": "markdown",
      "metadata": {
        "id": "rtEwdvdQgofu"
      },
      "source": [
        "**Exercicio**"
      ]
    },
    {
      "cell_type": "code",
      "execution_count": null,
      "metadata": {
        "colab": {
          "base_uri": "https://localhost:8080/",
          "height": 299
        },
        "id": "hqQSWmo6grpH",
        "outputId": "b7414ce7-d947-4688-8724-e8b85a85e059"
      },
      "outputs": [
        {
          "name": "stdout",
          "output_type": "stream",
          "text": [
            "Digite a nota da 1ª matéria: 10\n",
            "Digite a nota da 2ª matéria: 10\n",
            "Digite a nota da 3ª matéria: 10\n"
          ]
        },
        {
          "ename": "TypeError",
          "evalue": "ignored",
          "output_type": "error",
          "traceback": [
            "\u001b[0;31m---------------------------------------------------------------------------\u001b[0m",
            "\u001b[0;31mTypeError\u001b[0m                                 Traceback (most recent call last)",
            "\u001b[0;32m<ipython-input-78-be70e6bf066e>\u001b[0m in \u001b[0;36m<module>\u001b[0;34m()\u001b[0m\n\u001b[1;32m      3\u001b[0m \u001b[0mm3\u001b[0m \u001b[0;34m=\u001b[0m \u001b[0mfloat\u001b[0m\u001b[0;34m(\u001b[0m\u001b[0minput\u001b[0m\u001b[0;34m(\u001b[0m\u001b[0;34m'Digite a nota da 3ª matéria: '\u001b[0m\u001b[0;34m)\u001b[0m\u001b[0;34m)\u001b[0m\u001b[0;34m\u001b[0m\u001b[0;34m\u001b[0m\u001b[0m\n\u001b[1;32m      4\u001b[0m \u001b[0;32mif\u001b[0m \u001b[0mm1\u001b[0m \u001b[0;34m>=\u001b[0m \u001b[0;36m7\u001b[0m \u001b[0;32mand\u001b[0m \u001b[0mm2\u001b[0m \u001b[0;34m>=\u001b[0m\u001b[0;36m7\u001b[0m \u001b[0;32mand\u001b[0m \u001b[0mm3\u001b[0m \u001b[0;34m>=\u001b[0m \u001b[0;36m7\u001b[0m\u001b[0;34m:\u001b[0m\u001b[0;34m\u001b[0m\u001b[0;34m\u001b[0m\u001b[0m\n\u001b[0;32m----> 5\u001b[0;31m   \u001b[0mprint\u001b[0m\u001b[0;34m(\u001b[0m\u001b[0;34m'O aluno está aprovado de ano!'\u001b[0m\u001b[0;34m)\u001b[0m\u001b[0;34m\u001b[0m\u001b[0;34m\u001b[0m\u001b[0m\n\u001b[0m\u001b[1;32m      6\u001b[0m \u001b[0;32melse\u001b[0m\u001b[0;34m:\u001b[0m\u001b[0;34m\u001b[0m\u001b[0;34m\u001b[0m\u001b[0m\n\u001b[1;32m      7\u001b[0m   \u001b[0mprint\u001b[0m\u001b[0;34m(\u001b[0m\u001b[0;34m'O aluno não passou de ano!'\u001b[0m\u001b[0;34m)\u001b[0m\u001b[0;34m\u001b[0m\u001b[0;34m\u001b[0m\u001b[0m\n",
            "\u001b[0;31mTypeError\u001b[0m: 'tuple' object is not callable"
          ]
        }
      ],
      "source": [
        "m1 = float(input('Digite a nota da 1ª matéria: '))\n",
        "m2 = float(input('Digite a nota da 2ª matéria: '))\n",
        "m3 = float(input('Digite a nota da 3ª matéria: '))\n",
        "if m1 >= 7 and m2 >=7 and m3 >= 7:\n",
        "  print('O aluno está aprovado de ano!')\n",
        "else:  \n",
        "  print('O aluno não passou de ano!')\n"
      ]
    },
    {
      "cell_type": "markdown",
      "metadata": {
        "id": "LIQ4h2vQic8Y"
      },
      "source": [
        "**Condicionais Aninhadas**"
      ]
    },
    {
      "cell_type": "code",
      "execution_count": null,
      "metadata": {
        "colab": {
          "base_uri": "https://localhost:8080/"
        },
        "id": "SDVjYnSOl5f7",
        "outputId": "60c0ad04-d607-4bbf-f6ec-da185630fd07"
      },
      "outputs": [
        {
          "name": "stdout",
          "output_type": "stream",
          "text": [
            "Escolha o que deseja comprar\n",
            "1 - maça\n",
            "2 - laranja\n",
            "3 - Banana\n",
            "Qual sua escolha? 1\n",
            "Quantas unidades? 1\n",
            "Você comprou 1 maças. Total à pagar 2.3\n"
          ]
        }
      ],
      "source": [
        "print('Escolha o que deseja comprar')\n",
        "print('1 - maça')\n",
        "print('2 - laranja')\n",
        "print('3 - Banana')\n",
        "produto = int(input('Qual sua escolha? '))\n",
        "qtd = int(input('Quantas unidades? '))\n",
        "if (produto == 1):\n",
        "  pagar = qtd *2.3\n",
        "  print('Você comprou {} maças. Total à pagar {}'.format(qtd, pagar))\n",
        "else:\n",
        "  if (produto == 2):\n",
        "    pagar = qtd * 3.6\n",
        "    print('Você comprou {} laranjas. Total à pagar {}'.format(qtd, pagar))\n",
        "  else:\n",
        "   if produto ==3 :\n",
        "    pagar = qtd * 1.85\n",
        "    print('Você comprou {} bananas. Total à pagar {}'.format(qtd, pagar))\n",
        "   else:\n",
        "    print('Produto inexistente!')"
      ]
    },
    {
      "cell_type": "markdown",
      "metadata": {
        "id": "sE9Ci8fnoP2T"
      },
      "source": [
        "**Condicionais de multiplica escolha (elif**)\n",
        "\n",
        "\n"
      ]
    },
    {
      "cell_type": "code",
      "execution_count": null,
      "metadata": {
        "colab": {
          "base_uri": "https://localhost:8080/"
        },
        "id": "xRdeyynLotCo",
        "outputId": "6fe1748e-0eca-4e30-9046-14fdf4cc58fa"
      },
      "outputs": [
        {
          "name": "stdout",
          "output_type": "stream",
          "text": [
            "Escolha o que deseja comprar\n",
            "1 - maça\n",
            "2 - laranja\n",
            "3 - Banana\n",
            "Qual sua escolha? 10\n",
            "Quantas unidades? 10\n",
            "Produto inexistente!\n"
          ]
        }
      ],
      "source": [
        "print('Escolha o que deseja comprar')\n",
        "print('1 - maça')\n",
        "print('2 - laranja')\n",
        "print('3 - Banana')\n",
        "produto = int(input('Qual sua escolha? '))\n",
        "qtd = int(input('Quantas unidades? '))\n",
        "if (produto == 1):\n",
        "  pagar = qtd *2.3\n",
        "  print('Você comprou {} maças. Total à pagar {}'.format(qtd, pagar))\n",
        "elif (produto == 2):\n",
        "    pagar = qtd * 3.6\n",
        "    print('Você comprou {} laranjas. Total à pagar {}'.format(qtd, pagar))\n",
        "elif produto ==3 :\n",
        "    pagar = qtd * 1.85\n",
        "    print('Você comprou {} bananas. Total à pagar {}'.format(qtd, pagar))\n",
        "else:\n",
        "    print('Produto inexistente!')"
      ]
    },
    {
      "cell_type": "code",
      "execution_count": null,
      "metadata": {
        "colab": {
          "base_uri": "https://localhost:8080/"
        },
        "id": "Rv5TuTS6pfE7",
        "outputId": "cb53ca12-bef5-4a6a-f73f-d1752c30374b"
      },
      "outputs": [
        {
          "name": "stdout",
          "output_type": "stream",
          "text": [
            "Qual seu nome? VANDERSON\n",
            "Qual sua idade? 18\n",
            "Você não é Vitória! Mesmo sendo de maior não mexa algo que nao seja seu!\n"
          ]
        }
      ],
      "source": [
        "nome = input('Qual seu nome? ')\n",
        "idade = int(input('Qual sua idade? '))\n",
        "if nome == 'Vitória':\n",
        "  print('Olá, Vitória')\n",
        "elif idade < 18:\n",
        "  print('Você náo é Vitória! e é menor de idade!')\n",
        "elif idade == 18:\n",
        "  print('Você não é Vitória! Mesmo sendo de maior não mexa algo que nao seja seu!')\n",
        "elif idade >= 100:\n",
        "  print('Diferente de você, a Vitória não é imortal!')"
      ]
    },
    {
      "cell_type": "markdown",
      "metadata": {
        "id": "MdN6X_fg6abe"
      },
      "source": [
        "# **Teste**"
      ]
    },
    {
      "cell_type": "code",
      "execution_count": null,
      "metadata": {
        "colab": {
          "base_uri": "https://localhost:8080/"
        },
        "id": "lnsEhuz3-lBG",
        "outputId": "f942c123-0b90-43c8-8a10-5daad134a93d"
      },
      "outputs": [
        {
          "name": "stdout",
          "output_type": "stream",
          "text": [
            "Escolha Qual item deseja comprar? \n",
            "1 - Roupa\n",
            "2 - Bebida\n",
            "3 - Comida\n",
            "Qual sua escolha?3\n",
            "Quantas unidades? 10\n",
            "Você comprou 10 comidas, Total a pagar 45.0\n"
          ]
        }
      ],
      "source": [
        "print('Escolha Qual item deseja comprar? ')\n",
        "print('1 - Roupa')\n",
        "print('2 - Bebida')\n",
        "print('3 - Comida')\n",
        "produto = int(input('Qual sua escolha?'))\n",
        "qtd = int(input('Quantas unidades? ')) \n",
        "if produto ==1:\n",
        "  pagar = qtd * 3.5\n",
        "  print('Você comprou {} peças de roupas, total a paga {}'.format(qtd, pagar))\n",
        "elif produto == 2 :\n",
        "  pagar = qtd * 1.5\n",
        "  print('Você comprou {} bebidas, Total a pagar {}'.format(qtd, pagar))\n",
        "elif produto == 3 :\n",
        "  pagar = qtd * 4.5\n",
        "  print('Você comprou {} pratos de comidas, Total a pagar {}'.format(qtd, pagar))\n",
        "else:\n",
        "  print('Produto inexistente:')\n",
        "  "
      ]
    },
    {
      "cell_type": "code",
      "execution_count": null,
      "metadata": {
        "colab": {
          "base_uri": "https://localhost:8080/"
        },
        "id": "etFOJPlZUpMt",
        "outputId": "05ec10a3-b520-415b-9444-815f2e946f77"
      },
      "outputs": [
        {
          "name": "stdout",
          "output_type": "stream",
          "text": [
            "Qual sua idade? 1\n",
            "você não tem direito ao beneficio!\n"
          ]
        }
      ],
      "source": [
        "idade = int(input('Qual sua idade? '))\n",
        "if (idade == 18):\n",
        " print('voce') \n",
        "else:\n",
        " print('você não tem direito ao beneficio!')"
      ]
    },
    {
      "cell_type": "code",
      "execution_count": null,
      "metadata": {
        "colab": {
          "base_uri": "https://localhost:8080/"
        },
        "id": "lH7hoaIzXNQw",
        "outputId": "c23f4734-3cf8-4e03-dae2-199957345a3d"
      },
      "outputs": [
        {
          "name": "stdout",
          "output_type": "stream",
          "text": [
            "Quantidade de dano?10\n",
            "Quantidade do escudo?10\n",
            "você esta vivo!\n"
          ]
        }
      ],
      "source": [
        "dano = int(input('Quantidade de dano?' ))\n",
        "escudo = int(input('Quantidade do escudo?'))\n",
        "if dano > 10 and escudo == 0:\n",
        "     print('Você está morto!')\n",
        "else:\n",
        "     print('você esta vivo!')"
      ]
    },
    {
      "cell_type": "code",
      "execution_count": null,
      "metadata": {
        "id": "0q54Sg3lXOB0"
      },
      "outputs": [],
      "source": [
        "if norte or sul or leste or oeste :\n",
        "  print('Você escapou!')"
      ]
    },
    {
      "cell_type": "markdown",
      "metadata": {
        "id": "0wFIBeQRfekt"
      },
      "source": [
        "# **Exercicio**"
      ]
    },
    {
      "cell_type": "code",
      "execution_count": null,
      "metadata": {
        "id": "sAqcOpDmfhrC"
      },
      "outputs": [],
      "source": [
        "a = int(input('Digite o primeiro lado do triangulo: '))\n",
        "b = int(input('Digite o segundo lado do triangulo: '))\n",
        "c = int(input('Digite o terceiro lado do triangulo: '))\n",
        "if a > 0 and b > 0 and c > 0:\n",
        "    if a + b > c and a + c > b and b + c > a:\n",
        "    # se você chegou ate aqui, é porque o triangulo é valido!\n",
        "        if a != b and a != c and b != c:\n",
        "            print('Triangulo escaleno!')\n",
        "        else:\n",
        "            if a == b and a == c and b == c:\n",
        "                print('Triangulo equilatero!')\n",
        "            else:\n",
        "                print('Triangulo isosceles!')\n",
        "\n",
        "    else:\n",
        "        print('Ao menos um dos valores indicados nao servem para formar um triangulo')\n",
        "else:\n",
        "    print('Ao menos um dos valores indicados nao servem para formar um triangulo')\n"
      ]
    },
    {
      "cell_type": "code",
      "execution_count": null,
      "metadata": {
        "colab": {
          "base_uri": "https://localhost:8080/"
        },
        "id": "ETFEE1zZfi0q",
        "outputId": "d6dd27ff-ca17-49f1-9287-b3beba230faf"
      },
      "outputs": [
        {
          "name": "stdout",
          "output_type": "stream",
          "text": [
            "Calculadora\n",
            "+ Adição\n",
            "- Subtração\n",
            "* Multipçicação\n",
            "/ Divisão\n",
            "Pressione outra tecla pra sair:\n",
            "Qual operação deseja fazer?\n",
            "Você digitou uma operação invalida\n",
            "encerrando o programa!\n"
          ]
        }
      ],
      "source": [
        "print('Calculadora')\n",
        "print('+ Adição')\n",
        "print('- Subtração')\n",
        "print('* Multipçicação')\n",
        "print('/ Divisão')\n",
        "print('Pressione outra tecla pra sair:')\n",
        "\n",
        "op = input('Qual operação deseja fazer?')\n",
        "if op == '+' or op == '-' or op == '*' or op == '/':\n",
        "    a = float(input('Digite um valor?'))\n",
        "    b = float(input('Digite outro Valor'))\n",
        "\n",
        "if op == '+':\n",
        "    res = a + b\n",
        "    print('Resultado: {} + {} = {}'.format(a, b, res))\n",
        "\n",
        "elif op == '-':\n",
        "    res = a - b\n",
        "    print('Resultado: {} - {} = {}'. format(a. b. res))\n",
        "\n",
        "elif op == '*':\n",
        "    res = a * b\n",
        "    print('Resultado: {} * {} = {}'.format(a, b, res))\n",
        "\n",
        "elif op == '/':\n",
        "    res = a / b\n",
        "    print('Resultado: {} / {} = {}'.format(a, b, res))\n",
        "\n",
        "else:\n",
        "    print('Você digitou uma operação invalida')\n",
        "\n",
        "print('encerrando o programa!')\n",
        "\n"
      ]
    },
    {
      "cell_type": "code",
      "execution_count": null,
      "metadata": {
        "colab": {
          "base_uri": "https://localhost:8080/"
        },
        "id": "JpLLJb_ij6gA",
        "outputId": "03203af4-b6bd-4d92-c65b-bd078901a16a"
      },
      "outputs": [
        {
          "name": "stdout",
          "output_type": "stream",
          "text": [
            "Quantos kwm?:6000\n",
            "Qual o Tipo de instalação? (R, C ou I).I\n",
            "Total a pagar: 3600.0\n"
          ]
        }
      ],
      "source": [
        "kwh = float(input('Quantos kwm?:'))\n",
        "tipo = input('Qual o Tipo de instalação? (R, C ou I).')\n",
        "\n",
        "if tipo == 'R':\n",
        "    if kwh <= 500:\n",
        "        preco = 0.4\n",
        "    else:\n",
        "        preco = 0.65\n",
        "elif tipo == 'C':\n",
        "    if kwh <= 1000:\n",
        "        preco = 0.55\n",
        "    else:\n",
        "        preco = 0.6\n",
        "elif tipo == 'I':\n",
        "    if kwh <= 5000:\n",
        "        preco = 0.55\n",
        "    else:\n",
        "        preco = 0.6\n",
        "else:\n",
        "    print('Operação Invalida')\n",
        "\n",
        "print('Total a pagar: {}'. format(kwh * preco))\n",
        "\n"
      ]
    },
    {
      "cell_type": "markdown",
      "metadata": {
        "id": "U0M-9Vi5T8Bl"
      },
      "source": [
        "# **Estruta de Repetição** (while)"
      ]
    },
    {
      "cell_type": "code",
      "execution_count": null,
      "metadata": {
        "colab": {
          "base_uri": "https://localhost:8080/"
        },
        "id": "47pF957UVGFx",
        "outputId": "b163bcce-3aa6-4d3c-b561-ce2f5991e665"
      },
      "outputs": [
        {
          "name": "stdout",
          "output_type": "stream",
          "text": [
            "Digite um numero!10\n",
            "Digite outro numero10\n"
          ]
        }
      ],
      "source": [
        "x = int(input('Digite um numero!'))\n",
        "y = int(input('Digite outro numero'))\n",
        "while x>y :\n",
        "  print"
      ]
    },
    {
      "cell_type": "code",
      "execution_count": null,
      "metadata": {
        "colab": {
          "base_uri": "https://localhost:8080/"
        },
        "id": "v0DkkEEcW5dT",
        "outputId": "6dc22ca7-b82a-4334-f1a4-d58836ab527d"
      },
      "outputs": [
        {
          "name": "stdout",
          "output_type": "stream",
          "text": [
            "1\n",
            "2\n",
            "3\n",
            "4\n",
            "5\n",
            "6\n",
            "7\n",
            "8\n",
            "9\n",
            "10\n"
          ]
        }
      ],
      "source": [
        "x = 1\n",
        "while x <= 10:\n",
        "  print(x)\n",
        "  x = x + 1"
      ]
    },
    {
      "cell_type": "code",
      "execution_count": null,
      "metadata": {
        "colab": {
          "base_uri": "https://localhost:8080/"
        },
        "id": "r9rQHBNFXjDm",
        "outputId": "e58abb47-02af-4ff5-e77b-c6d344741a4c"
      },
      "outputs": [
        {
          "name": "stdout",
          "output_type": "stream",
          "text": [
            "0\n",
            "1\n",
            "2\n",
            "3\n",
            "4\n",
            "5\n",
            "6\n",
            "7\n",
            "8\n",
            "9\n",
            "10\n"
          ]
        }
      ],
      "source": [
        "x = 0\n",
        "while x <=10:\n",
        "  print(x)\n",
        "  x = x + 1\n"
      ]
    },
    {
      "cell_type": "markdown",
      "metadata": {
        "id": "5BMVETFOX3hX"
      },
      "source": [
        "**Variaveis Contador**"
      ]
    },
    {
      "cell_type": "code",
      "execution_count": null,
      "metadata": {
        "colab": {
          "base_uri": "https://localhost:8080/"
        },
        "id": "pUEdWyiMX0ti",
        "outputId": "edc7819f-8727-470f-f467-d257d40284b9"
      },
      "outputs": [
        {
          "name": "stdout",
          "output_type": "stream",
          "text": [
            "Qual valor deseja iniciar a contagem:5\n",
            "Qual valor deseja encerrar a contagem:10\n",
            "6\n",
            "8\n",
            "10\n"
          ]
        }
      ],
      "source": [
        "inicial= int(input('Qual valor deseja iniciar a contagem:'))\n",
        "final = int(input('Qual valor deseja encerrar a contagem:'))\n",
        "x = inicial\n",
        "while x <= final :\n",
        "  if x % 2 == 0:\n",
        "    print(x)\n",
        "  x = x + 1"
      ]
    },
    {
      "cell_type": "markdown",
      "metadata": {
        "id": "UzfwqsxVZIAT"
      },
      "source": [
        "**Variaveis acumulador**\n"
      ]
    },
    {
      "cell_type": "code",
      "execution_count": null,
      "metadata": {
        "colab": {
          "base_uri": "https://localhost:8080/"
        },
        "id": "HB2ZScKSY1Hh",
        "outputId": "8db500af-9cb1-4fc8-fff0-c026f70a8e1d"
      },
      "outputs": [
        {
          "name": "stdout",
          "output_type": "stream",
          "text": [
            "Digite a 1ª nota:10\n",
            "Digite a 2ª nota:10\n",
            "Digite a 3ª nota:10\n",
            "Digite a 4ª nota:10\n",
            "Digite a 5ª nota:10\n",
            "Media final: 10.0\n"
          ]
        }
      ],
      "source": [
        "soma = 0\n",
        "cont = 1\n",
        "while cont <= 5:\n",
        "  x = float(input('Digite a {}ª nota:'.format(cont)))\n",
        "  soma = soma + x\n",
        "  cont = cont + 1\n",
        "media = soma / 5\n",
        "print('Media final: {}'.format(media))"
      ]
    },
    {
      "cell_type": "code",
      "execution_count": null,
      "metadata": {
        "colab": {
          "base_uri": "https://localhost:8080/"
        },
        "id": "g3AJ2_AsbqcV",
        "outputId": "0084fa78-61fe-41eb-938e-936ee418f4db"
      },
      "outputs": [
        {
          "name": "stdout",
          "output_type": "stream",
          "text": [
            "Digite a 1ª nota:10\n",
            "Digite a 2ª nota:10\n",
            "Digite a 3ª nota:10\n",
            "Digite a 4ª nota:10\n",
            "Digite a 5ª nota:10\n",
            "Media final: 10.0\n"
          ]
        }
      ],
      "source": [
        "soma = 0\n",
        "cont = 1\n",
        "while cont <= 5:\n",
        "  x = float(input('Digite a {}ª nota:'.format(cont)))\n",
        "  soma += x\n",
        "  cont += 1\n",
        "media = soma / 5\n",
        "print('Media final: {}'.format(media))"
      ]
    },
    {
      "cell_type": "markdown",
      "metadata": {
        "id": "U6zj4vK4czjC"
      },
      "source": [
        "**Exemplos dados de entrada**"
      ]
    },
    {
      "cell_type": "code",
      "execution_count": null,
      "metadata": {
        "colab": {
          "base_uri": "https://localhost:8080/"
        },
        "id": "2D1EBDGccoF8",
        "outputId": "552202ca-f411-4a06-98a2-517446d35039"
      },
      "outputs": [
        {
          "name": "stdout",
          "output_type": "stream",
          "text": [
            "Digite um balor maior do que zero: 0\n",
            "Digite um valor maior do que zero: 0\n",
            "Digite um valor maior do que zero: 0\n",
            "Digite um valor maior do que zero: 0\n",
            "Digite um valor maior do que zero: 0\n",
            "Digite um valor maior do que zero: 0\n",
            "Digite um valor maior do que zero: 10\n",
            "Você digitou 10. Encerrando o programa...\n"
          ]
        }
      ],
      "source": [
        "#Validando a entrada\n",
        "x = int(input('Digite um valor maior do que zero: '))\n",
        "while x <= 0:\n",
        "  x = int(input('Digite um valor maior do que zero: '))\n",
        "print('Você digitou {}. Encerrando o programa...'.format(x))\n",
        "  \n"
      ]
    },
    {
      "cell_type": "markdown",
      "metadata": {
        "id": "t-KRQSned6Iv"
      },
      "source": [
        "**Instrução break**"
      ]
    },
    {
      "cell_type": "code",
      "execution_count": null,
      "metadata": {
        "colab": {
          "base_uri": "https://localhost:8080/"
        },
        "id": "EhbCnovfd9eB",
        "outputId": "4283a2ca-ea42-4497-b0f5-f8a26619e7c7"
      },
      "outputs": [
        {
          "name": "stdout",
          "output_type": "stream",
          "text": [
            "Digite uma mensagem que irei repetir para você!\n",
            "Para encerrar escreva \"sair\".\n",
            "sair\n",
            "sair\n",
            "Encerrando o programa...\n"
          ]
        }
      ],
      "source": [
        "print('Digite uma mensagem que irei repetir para você!')\n",
        "print('Para encerrar escreva \"sair\".')\n",
        "while True:\n",
        "  texto = input('')\n",
        "  print(texto)\n",
        "  if texto == \"sair\" :\n",
        "    break\n",
        "print('Encerrando o programa...')\n"
      ]
    },
    {
      "cell_type": "markdown",
      "metadata": {
        "id": "QXAuHTG3fDe3"
      },
      "source": [
        "**Instrução Continue**"
      ]
    },
    {
      "cell_type": "code",
      "execution_count": null,
      "metadata": {
        "colab": {
          "base_uri": "https://localhost:8080/"
        },
        "id": "VAvZROg8fHcr",
        "outputId": "cde7eb3b-b5c6-406c-e156-083e1790c8a7"
      },
      "outputs": [
        {
          "name": "stdout",
          "output_type": "stream",
          "text": [
            "Qual o seu nome?Lenhadorzinho\n",
            "Qual a sua senha?1\n",
            "Qual o seu nome?Lenhadorzinho\n",
            "Qual a sua senha?Uninter\n",
            "Acesso concedido.\n"
          ]
        }
      ],
      "source": [
        "while True:\n",
        "  nome = input('Qual o seu nome?')\n",
        "  if nome != 'Lenhadorzinho':\n",
        "    continue\n",
        "  senha = input('Qual a sua senha?')\n",
        "  if senha == 'Uninter':\n",
        "   break\n",
        "print('Acesso concedido.')\n"
      ]
    },
    {
      "cell_type": "markdown",
      "metadata": {
        "id": "iI681IJkggXQ"
      },
      "source": [
        "**Valores Truthy e Falsey**"
      ]
    },
    {
      "cell_type": "code",
      "execution_count": null,
      "metadata": {
        "colab": {
          "base_uri": "https://localhost:8080/"
        },
        "id": "vl9W7ofagki0",
        "outputId": "c5922cea-aba0-4126-d667-62fec0dab38f"
      },
      "outputs": [
        {
          "name": "stdout",
          "output_type": "stream",
          "text": [
            "Digite seu nome: v\n",
            "Digite um numero: 10\n",
            "Voce digitou um valor diferente de zero.\n"
          ]
        }
      ],
      "source": [
        "nome = \"\"\n",
        "while not nome:\n",
        "  nome = input('Digite seu nome: ')\n",
        "valor = int(input('Digite um numero: '))\n",
        "if valor:\n",
        "  print('Voce digitou um valor diferente de zero.')\n",
        "else:\n",
        "  print('Você digitou zero.')"
      ]
    },
    {
      "cell_type": "markdown",
      "metadata": {
        "id": "EgoC4YB6hVhS"
      },
      "source": [
        "# **Estrutura de Repetição (for)**"
      ]
    },
    {
      "cell_type": "code",
      "execution_count": null,
      "metadata": {
        "colab": {
          "base_uri": "https://localhost:8080/"
        },
        "id": "ObUvWf5vhmyG",
        "outputId": "bfef0a27-b625-4e5e-e704-e3149a8eabee"
      },
      "outputs": [
        {
          "name": "stdout",
          "output_type": "stream",
          "text": [
            "0\n",
            "1\n",
            "2\n",
            "3\n",
            "4\n",
            "5\n"
          ]
        }
      ],
      "source": [
        "for x in range(6):\n",
        "  print(x)"
      ]
    },
    {
      "cell_type": "code",
      "execution_count": null,
      "metadata": {
        "colab": {
          "base_uri": "https://localhost:8080/"
        },
        "id": "IWQnrAn5if9W",
        "outputId": "41841a00-f4fc-4b27-f4ea-060726982b50"
      },
      "outputs": [
        {
          "name": "stdout",
          "output_type": "stream",
          "text": [
            "10\n",
            "8\n",
            "6\n",
            "4\n",
            "2\n"
          ]
        }
      ],
      "source": [
        "for x in range(10,0,-2):\n",
        "  print(x)"
      ]
    },
    {
      "cell_type": "code",
      "execution_count": null,
      "metadata": {
        "colab": {
          "base_uri": "https://localhost:8080/"
        },
        "id": "EYg8mGUgjV6M",
        "outputId": "97a7f474-08ba-4d96-f464-d811d8c3a147"
      },
      "outputs": [
        {
          "name": "stdout",
          "output_type": "stream",
          "text": [
            "1\n",
            "2\n",
            "3\n",
            "4\n",
            "5\n"
          ]
        }
      ],
      "source": [
        "#x = 1 \n",
        "#while x < 6:\n",
        "  #print(x)\n",
        "  #x = x + 1\n",
        "  #Equivalente em For\n",
        "for x in range(1,6,1):\n",
        "  print(x)"
      ]
    },
    {
      "cell_type": "code",
      "execution_count": null,
      "metadata": {
        "colab": {
          "base_uri": "https://localhost:8080/"
        },
        "id": "ADgkDXH_j1SE",
        "outputId": "8272742f-30a0-4af2-e095-b421244de054"
      },
      "outputs": [
        {
          "name": "stdout",
          "output_type": "stream",
          "text": [
            "A media dos pares de 1 até 100 é 51.0\n"
          ]
        }
      ],
      "source": [
        "soma = 0\n",
        "qtd = 0\n",
        "for i in range (1,101):\n",
        "  if i % 2 == 0:\n",
        "    soma += i\n",
        "    qtd += 1\n",
        "media = soma / qtd\n",
        "print('A media dos pares de 1 até 100 é {}'.format(media))"
      ]
    },
    {
      "cell_type": "markdown",
      "metadata": {
        "id": "dRiZJMw53t6k"
      },
      "source": [
        "**EXERCICIO**"
      ]
    },
    {
      "cell_type": "code",
      "execution_count": null,
      "metadata": {
        "id": "2Gp0NgJ_5nBD"
      },
      "outputs": [],
      "source": [
        "# while\n",
        "tabuada = 1\n",
        "while tabuada <=10:\n",
        "  print('Tabuada do {}'.format(tabuada))\n",
        "  i = 1\n",
        "  while i <= 10:\n",
        "    print('{} x {} = {}'.format(tabuada, i, tabuada * i))\n",
        "    i += 1\n",
        "  tabuada += 1"
      ]
    },
    {
      "cell_type": "code",
      "execution_count": null,
      "metadata": {
        "id": "xDgqy_z84Lec"
      },
      "outputs": [],
      "source": [
        " # for\n",
        "for tabuada in range(1,11,1):\n",
        "  print('Tabuada do {}:'.format(tabuada))\n",
        "  for i in range(1, 11, 1):\n",
        "    print('{} x {} = {}'.format(tabuada, i, tabuada * i))\n",
        "    \n"
      ]
    },
    {
      "cell_type": "code",
      "execution_count": null,
      "metadata": {
        "id": "ZiTtUKXf5uK0"
      },
      "outputs": [],
      "source": [
        " # while + for\n",
        "tabuada = 1\n",
        "while tabuada <= 10:\n",
        "  print('Tabuada do {}:'.format(tabuada))\n",
        "  for x in range(1,11,1):\n",
        "    print('{} x {} = {}'.format(tabuada, x, tabuada * x))\n",
        "  tabuada += 1"
      ]
    },
    {
      "cell_type": "markdown",
      "metadata": {
        "id": "8YXsbWc6yEfu"
      },
      "source": [
        "**Pratica**"
      ]
    },
    {
      "cell_type": "code",
      "execution_count": null,
      "metadata": {
        "id": "erXLIidTyLoM"
      },
      "outputs": [],
      "source": [
        "for i in range(3,13,1):\n",
        "  print(i)\n",
        "  "
      ]
    },
    {
      "cell_type": "code",
      "execution_count": null,
      "metadata": {
        "id": "7LNgbueN3W4I"
      },
      "outputs": [],
      "source": [
        "i = 3\n",
        "while i <=12:\n",
        "  print(i)\n",
        "  i += 1\n"
      ]
    },
    {
      "cell_type": "code",
      "execution_count": null,
      "metadata": {
        "colab": {
          "base_uri": "https://localhost:8080/"
        },
        "id": "NF7YjEPH3yvI",
        "outputId": "66e4bf85-34a3-4345-93bb-30c43a987105"
      },
      "outputs": [
        {
          "name": "stdout",
          "output_type": "stream",
          "text": [
            "0\n",
            "2\n",
            "4\n",
            "6\n",
            "8\n"
          ]
        }
      ],
      "source": [
        "for i in range(0,9,2):\n",
        "  print(i)"
      ]
    },
    {
      "cell_type": "code",
      "execution_count": null,
      "metadata": {
        "colab": {
          "base_uri": "https://localhost:8080/"
        },
        "id": "XifLsShe33og",
        "outputId": "e0add16d-73b9-49c3-f0bc-82ce179e3cc6"
      },
      "outputs": [
        {
          "name": "stdout",
          "output_type": "stream",
          "text": [
            "0\n",
            "2\n",
            "4\n",
            "6\n",
            "8\n"
          ]
        }
      ],
      "source": [
        "i = 0\n",
        "while i <=8:\n",
        "  print(i)\n",
        "  i += 2"
      ]
    },
    {
      "cell_type": "markdown",
      "metadata": {
        "id": "MrhCBB124TQD"
      },
      "source": [
        "**Exercicio**"
      ]
    },
    {
      "cell_type": "code",
      "execution_count": null,
      "metadata": {
        "colab": {
          "base_uri": "https://localhost:8080/"
        },
        "id": "s43fADJ_4Raq",
        "outputId": "afc51871-071d-4302-afc7-b32c03634808"
      },
      "outputs": [
        {
          "name": "stdout",
          "output_type": "stream",
          "text": [
            "Calculadora\n",
            "+ Adição\n",
            "- Subtração\n",
            "* Multipçicação\n",
            "/ Divisão\n",
            "Pressione outra tecla pra sair:\n",
            "Qual operação deseja fazer?s\n",
            "encerrando o programa!\n"
          ]
        }
      ],
      "source": [
        "print('Calculadora')\n",
        "print('+ Adição')\n",
        "print('- Subtração')\n",
        "print('* Multipçicação')\n",
        "print('/ Divisão')\n",
        "print('Pressione outra tecla pra sair:')\n",
        "\n",
        "op = input('Qual operação deseja fazer?')\n",
        "if op == '+' or op == '-' or op == '*' or op == '/':\n",
        "    a = float(input('Digite um valor?'))\n",
        "    b = float(input('Digite outro Valor'))\n",
        "\n",
        "while op != 's':\n",
        "  if op == '+':\n",
        "      res = a + b\n",
        "      print('Resultado: {} + {} = {}'.format(a, b, res))\n",
        "\n",
        "  elif op == '-':\n",
        "      res = a - b\n",
        "      print('Resultado: {} - {} = {}'.format(a, b, res))\n",
        "\n",
        "  elif op == '*':\n",
        "      res = a * b\n",
        "      print('Resultado: {} * {} = {}'.format(a, b, res))\n",
        "\n",
        "  elif op == '/':\n",
        "      res = a / b\n",
        "      print('Resultado: {} / {} = {}'.format(a, b, res))\n",
        "\n",
        "  else:\n",
        "      print('Você digitou uma operação invalida')\n",
        "  \n",
        "  op = input('Qual operação deseja fazer?')\n",
        "  if op == '+' or op == '-' or op == '*' or op == '/':\n",
        "    a = float(input('Digite um valor?'))\n",
        "    b = float(input('Digite outro Valor'))\n",
        "\n",
        "print('encerrando o programa!')"
      ]
    },
    {
      "cell_type": "code",
      "execution_count": null,
      "metadata": {
        "colab": {
          "base_uri": "https://localhost:8080/"
        },
        "id": "PNhT7AzC7RNW",
        "outputId": "c1e20772-c28e-4421-d54d-5b36a568de42"
      },
      "outputs": [
        {
          "name": "stdout",
          "output_type": "stream",
          "text": [
            "Calculadora\n",
            "+ Adição\n",
            "- Subtração\n",
            "* Multipçicação\n",
            "/ Divisão\n",
            "Pressione outra tecla pra sair:\n",
            "Qual operação deseja fazer?-\n",
            "Digite um valor?10\n",
            "Digite outro Valor10\n",
            "Resultado: 10.0 - 10.0 = 0.0\n",
            "Qual operação deseja fazer?s\n",
            "encerrando o programa!\n"
          ]
        }
      ],
      "source": [
        "print('Calculadora')\n",
        "print('+ Adição')\n",
        "print('- Subtração')\n",
        "print('* Multipçicação')\n",
        "print('/ Divisão')\n",
        "print('Pressione outra tecla pra sair:')\n",
        "\n",
        "\n",
        "while True: \n",
        "  op = input('Qual operação deseja fazer?')\n",
        "  if op == '+' or op == '-' or op == '*' or op == '/':\n",
        "    a = float(input('Digite um valor?'))\n",
        "    b = float(input('Digite outro Valor'))    \n",
        "\n",
        "  if op == '+':\n",
        "      res = a + b\n",
        "      print('Resultado: {} + {} = {}'.format(a, b, res))\n",
        "      continue\n",
        "  elif op == '-':\n",
        "      res = a - b\n",
        "      print('Resultado: {} - {} = {}'.format(a, b, res))\n",
        "      continue\n",
        "  elif op == '*':\n",
        "      res = a * b\n",
        "      print('Resultado: {} * {} = {}'.format(a, b, res))\n",
        "      continue\n",
        "  elif op == '/':\n",
        "      res = a / b\n",
        "      print('Resultado: {} / {} = {}'.format(a, b, res))\n",
        "      continue\n",
        "  elif op == 's':\n",
        "      break\n",
        "\n",
        "  else:\n",
        "      print('Você digitou uma operação invalida')\n",
        "\n",
        "print('encerrando o programa!')"
      ]
    },
    {
      "cell_type": "code",
      "execution_count": null,
      "metadata": {
        "colab": {
          "base_uri": "https://localhost:8080/"
        },
        "id": "B8tiT-ek8IS9",
        "outputId": "ddd44c02-e7cb-46f5-a12e-5b79c6e17f19"
      },
      "outputs": [
        {
          "name": "stdout",
          "output_type": "stream",
          "text": [
            "Digite o valor em R$: 127\n",
            "Cedulas de 100: 1\n",
            "Cedulas de 20: 1\n",
            "Cedulas de 5: 1\n",
            "Cedulas de 1: 2\n"
          ]
        }
      ],
      "source": [
        "valor = int(input('Digite o valor em R$: '))\n",
        "\n",
        "if valor >= 100:\n",
        "  cedulas100 = valor // 100\n",
        "  valor -= cedulas100 * 100\n",
        "  print('Cedulas de 100: {}'.format(cedulas100))\n",
        "\n",
        "if valor >= 50:\n",
        "  cedulas50 = valor // 50\n",
        "  valor -= cedulas50 * 50\n",
        "  print('Cedulas de 50: {}'.format(cedulas50))\n",
        "\n",
        "if valor >= 20:\n",
        "  cedulas20 = valor // 20\n",
        "  valor -= cedulas20 * 20\n",
        "  print('Cedulas de 20: {}'.format(cedulas20))\n",
        "\n",
        "if valor >= 10:\n",
        "  cedulas10 = valor // 10\n",
        "  valor -= cedulas10 * 10\n",
        "  print('Cedulas de 10: {}'.format(cedulas10))\n",
        "\n",
        "if valor >= 5:\n",
        "  cedulas5 = valor // 5\n",
        "  valor -= cedulas5 * 5\n",
        "  print('Cedulas de 5: {}'.format(cedulas5))\n",
        "\n",
        "if valor:\n",
        "  cedulas1 = valor\n",
        "  print('Cedulas de 1: {}'.format(cedulas1))\n",
        "\n",
        "\n",
        "\n",
        "\n"
      ]
    },
    {
      "cell_type": "code",
      "execution_count": null,
      "metadata": {
        "colab": {
          "base_uri": "https://localhost:8080/"
        },
        "id": "J14oxH9rABpm",
        "outputId": "a709bc1a-9c45-4a0e-fc60-66ef8a48e064"
      },
      "outputs": [
        {
          "name": "stdout",
          "output_type": "stream",
          "text": [
            "Digite o valor em R$: 10\n",
            "Cedulas de 10: 1\n"
          ]
        }
      ],
      "source": [
        "valor = int(input('Digite o valor em R$: '))\n",
        "\n",
        "while True:\n",
        "  if valor >= 100:\n",
        "    cedulas100 = valor // 100\n",
        "    valor -= cedulas100 * 100\n",
        "    print('Cedulas de 100: {}'.format(cedulas100))\n",
        "    if not valor:\n",
        "        break\n",
        "  \n",
        "  if valor >= 50:\n",
        "    cedulas50 = valor // 50\n",
        "    valor -= cedulas50 * 50\n",
        "    print('Cedulas de 50: {}'.format(cedulas50))\n",
        "    if not valor:\n",
        "        break\n",
        "  \n",
        "  if valor >= 20:\n",
        "    cedulas20 = valor // 20\n",
        "    valor -= cedulas20 * 20\n",
        "    print('Cedulas de 20: {}'.format(cedulas20))\n",
        "    if not valor:\n",
        "        break\n",
        "  \n",
        "  if valor >= 10:\n",
        "    cedulas10 = valor // 10\n",
        "    valor -= cedulas10 * 10\n",
        "    print('Cedulas de 10: {}'.format(cedulas10))\n",
        "    if not valor:\n",
        "        break\n",
        " \n",
        "  if valor >= 5:\n",
        "    cedulas5 = valor // 5\n",
        "    valor -= cedulas5 * 5\n",
        "    print('Cedulas de 5: {}'.format(cedulas5))\n",
        "    if not valor:\n",
        "        break\n",
        "  \n",
        "  if valor:\n",
        "    cedulas1 = valor\n",
        "    print('Cedulas de 1: {}'.format(cedulas1))\n",
        "    break"
      ]
    },
    {
      "cell_type": "code",
      "execution_count": null,
      "metadata": {
        "colab": {
          "base_uri": "https://localhost:8080/"
        },
        "id": "6X0hJaf8AyVW",
        "outputId": "67e63cdc-d02d-4338-c998-db65dc674e95"
      },
      "outputs": [
        {
          "name": "stdout",
          "output_type": "stream",
          "text": [
            "Qual sua idade?10\n",
            "Qual sua idade?10\n",
            "Qual sua idade?10\n",
            "Qual sua idade?10\n",
            "Qual sua idade?10\n",
            "Qual sua idade?10\n",
            "Qual sua idade?10\n",
            "Qual sua idade?0\n",
            "Qual sua idade?0\n",
            "Qual sua idade?1\n",
            "Qual sua idade?1\n",
            "Qual sua idade?2\n",
            "Qual sua idade?3\n",
            "Qual sua idade?sair\n",
            "Total de pessoas: 13\n",
            "Total arrecadado: 120\n",
            "Media arrecadada: 9.23076923076923\n"
          ]
        }
      ],
      "source": [
        "total = 0\n",
        "dinheiro = 0\n",
        "\n",
        "while True:\n",
        "  idade = input('Qual sua idade?')\n",
        "  if idade == \"sair\":\n",
        "      break\n",
        "  idade = int(idade)\n",
        "  total += 1\n",
        "  if idade < 3:\n",
        "    ingresso = 0\n",
        "  else:\n",
        "    if idade > 12:\n",
        "      igresso = 30\n",
        "    else:\n",
        "      ingresso = 15\n",
        "  \n",
        "  dinheiro += ingresso\n",
        "\n",
        "media = dinheiro / total\n",
        "print('Total de pessoas: {}'.format(total))\n",
        "print('Total arrecadado: {}'.format(dinheiro))\n",
        "print('Media arrecadada: {}'.format(media))\n",
        "\n"
      ]
    },
    {
      "cell_type": "markdown",
      "metadata": {
        "id": "x3u9G6ylgwJr"
      },
      "source": [
        "# **Funções**"
      ]
    },
    {
      "cell_type": "code",
      "execution_count": null,
      "metadata": {
        "colab": {
          "base_uri": "https://localhost:8080/"
        },
        "id": "sIpWjygag6Cd",
        "outputId": "03ee792d-16f5-48c0-95ae-91b006fa2d51"
      },
      "outputs": [
        {
          "name": "stdout",
          "output_type": "stream",
          "text": [
            "| ____________________ |\n",
            "| ____________________ |\n",
            "         MENU\n",
            "| ____________________ |\n",
            "| ____________________ |\n"
          ]
        }
      ],
      "source": [
        "print('|','__'* 10, '|')\n",
        "print('|','__'* 10, '|')\n",
        "print('         MENU')\n",
        "print('|','__'* 10, '|')\n",
        "print('|','__'* 10, '|')"
      ]
    },
    {
      "cell_type": "code",
      "execution_count": null,
      "metadata": {
        "id": "gSMG6aVri5yA"
      },
      "outputs": [],
      "source": [
        "def realce():\n",
        "  #corpo da função\n",
        "  print('|','__' *10,'|')\n",
        "  print('|','__' *10,'|')"
      ]
    },
    {
      "cell_type": "code",
      "execution_count": null,
      "metadata": {
        "colab": {
          "base_uri": "https://localhost:8080/"
        },
        "id": "cMsFwTXxjOHR",
        "outputId": "8affad98-de49-4406-b550-981f6f061d9f"
      },
      "outputs": [
        {
          "name": "stdout",
          "output_type": "stream",
          "text": [
            "| ____________________ |\n",
            "| ____________________ |\n",
            "          menu\n",
            "| ____________________ |\n",
            "| ____________________ |\n"
          ]
        }
      ],
      "source": [
        "#programa principal\n",
        "realce()\n",
        "print('          menu')\n",
        "realce()"
      ]
    },
    {
      "cell_type": "markdown",
      "metadata": {
        "id": "zuRUJHL3kLva"
      },
      "source": [
        "**Parametros em Funções**"
      ]
    },
    {
      "cell_type": "code",
      "execution_count": null,
      "metadata": {
        "id": "bx15rETMkK5E"
      },
      "outputs": [],
      "source": [
        "def realce(s1):\n",
        "  print('|','__' *10,'|')\n",
        "  print('|','__' *10,'|')\n",
        "  print(s1)\n",
        "  print('|','__' *10,'|')\n",
        "  print('|','__' *10,'|')\n"
      ]
    },
    {
      "cell_type": "code",
      "execution_count": null,
      "metadata": {
        "colab": {
          "base_uri": "https://localhost:8080/"
        },
        "id": "QLPS38dZmmrC",
        "outputId": "459857ca-5248-4781-8c8b-1b3ffa1d6ee8"
      },
      "outputs": [
        {
          "name": "stdout",
          "output_type": "stream",
          "text": [
            "| ____________________ |\n",
            "| ____________________ |\n",
            "          menu\n",
            "| ____________________ |\n",
            "| ____________________ |\n"
          ]
        }
      ],
      "source": [
        "#programa principal\n",
        "realce('          menu')"
      ]
    },
    {
      "cell_type": "code",
      "execution_count": null,
      "metadata": {
        "colab": {
          "base_uri": "https://localhost:8080/"
        },
        "id": "XSD8KKjXnAJm",
        "outputId": "156f7f06-ce4e-49a2-ddaa-ccacf297de8c"
      },
      "outputs": [
        {
          "name": "stdout",
          "output_type": "stream",
          "text": [
            "-2\n"
          ]
        }
      ],
      "source": [
        "def sub2(x, y):\n",
        "  res = x - y\n",
        "  print(res)\n",
        "\n",
        "#programa principal\n",
        "sub2(5, 7)"
      ]
    },
    {
      "cell_type": "code",
      "execution_count": null,
      "metadata": {
        "colab": {
          "base_uri": "https://localhost:8080/"
        },
        "id": "zTecx9T_nRXE",
        "outputId": "fd6c92d0-7f76-4f29-b786-f2575b5cef51"
      },
      "outputs": [
        {
          "name": "stdout",
          "output_type": "stream",
          "text": [
            "2\n"
          ]
        }
      ],
      "source": [
        "sub2(7,5)"
      ]
    },
    {
      "cell_type": "code",
      "execution_count": null,
      "metadata": {
        "colab": {
          "base_uri": "https://localhost:8080/"
        },
        "id": "LRGkfFTFncUe",
        "outputId": "727a1409-3dcc-411c-dd97-2593251664ce"
      },
      "outputs": [
        {
          "name": "stdout",
          "output_type": "stream",
          "text": [
            "-2\n"
          ]
        }
      ],
      "source": [
        "sub2(y = 7, x = 5)"
      ]
    },
    {
      "cell_type": "markdown",
      "metadata": {
        "id": "kUfOWCvCnqH2"
      },
      "source": [
        "**Parametros opcionais**"
      ]
    },
    {
      "cell_type": "code",
      "execution_count": null,
      "metadata": {
        "id": "LYRVpT52nsvP"
      },
      "outputs": [],
      "source": [
        "def soma3(x, y, z):\n",
        "  res = x+ y + z\n",
        "  print(res)"
      ]
    },
    {
      "cell_type": "code",
      "execution_count": null,
      "metadata": {
        "id": "FAEGCCEKn4wd"
      },
      "outputs": [],
      "source": [
        "def soma3(x = 0, y = 0, z = 0):\n",
        "  res = x + y + z\n",
        "  print(res)"
      ]
    },
    {
      "cell_type": "code",
      "execution_count": null,
      "metadata": {
        "colab": {
          "base_uri": "https://localhost:8080/",
          "height": 245
        },
        "id": "-A3f4kBAoFDN",
        "outputId": "58e2941e-34ea-40a7-9bdd-7439f6059f11"
      },
      "outputs": [
        {
          "name": "stdout",
          "output_type": "stream",
          "text": [
            "6\n"
          ]
        },
        {
          "ename": "TypeError",
          "evalue": "ignored",
          "output_type": "error",
          "traceback": [
            "\u001b[0;31m---------------------------------------------------------------------------\u001b[0m",
            "\u001b[0;31mTypeError\u001b[0m                                 Traceback (most recent call last)",
            "\u001b[0;32m<ipython-input-36-90b66ad9876d>\u001b[0m in \u001b[0;36m<module>\u001b[0;34m()\u001b[0m\n\u001b[1;32m      1\u001b[0m \u001b[0msoma3\u001b[0m\u001b[0;34m(\u001b[0m\u001b[0;36m1\u001b[0m\u001b[0;34m,\u001b[0m\u001b[0;36m2\u001b[0m\u001b[0;34m,\u001b[0m\u001b[0;36m3\u001b[0m\u001b[0;34m)\u001b[0m\u001b[0;34m\u001b[0m\u001b[0;34m\u001b[0m\u001b[0m\n\u001b[0;32m----> 2\u001b[0;31m \u001b[0msoma3\u001b[0m\u001b[0;34m(\u001b[0m\u001b[0;36m1\u001b[0m\u001b[0;34m,\u001b[0m\u001b[0;36m2\u001b[0m\u001b[0;34m)\u001b[0m  \u001b[0;31m#z foi omitido\u001b[0m\u001b[0;34m\u001b[0m\u001b[0;34m\u001b[0m\u001b[0m\n\u001b[0m\u001b[1;32m      3\u001b[0m \u001b[0msoma3\u001b[0m\u001b[0;34m(\u001b[0m\u001b[0;36m1\u001b[0m\u001b[0;34m)\u001b[0m    \u001b[0;31m#y e z foram omitidos\u001b[0m\u001b[0;34m\u001b[0m\u001b[0;34m\u001b[0m\u001b[0m\n\u001b[1;32m      4\u001b[0m \u001b[0msoma3\u001b[0m\u001b[0;34m(\u001b[0m\u001b[0;34m)\u001b[0m     \u001b[0;31m#x, y e z forma omitidos\u001b[0m\u001b[0;34m\u001b[0m\u001b[0;34m\u001b[0m\u001b[0m\n",
            "\u001b[0;31mTypeError\u001b[0m: soma3() missing 1 required positional argument: 'z'"
          ]
        }
      ],
      "source": [
        "soma3(1,2,3)\n",
        "soma3(1,2)  #z foi omitido\n",
        "soma3(1)    #y e z foram omitidos\n",
        "soma3()     #x, y e z forma omitidos"
      ]
    },
    {
      "cell_type": "markdown",
      "metadata": {
        "id": "M5iGhuRKotbr"
      },
      "source": [
        "**Exercicio**"
      ]
    },
    {
      "cell_type": "code",
      "execution_count": null,
      "metadata": {
        "colab": {
          "base_uri": "https://localhost:8080/"
        },
        "id": "V2Nw8hecotPK",
        "outputId": "2503a0da-3004-4591-faaf-857e94fee717"
      },
      "outputs": [
        {
          "name": "stdout",
          "output_type": "stream",
          "text": [
            "+ ---------- +\n",
            "| Ola, mundo |\n",
            "+ ---------- +\n",
            "+ ----------------------------------- +\n",
            "| logica de programacao e algoritimos |\n",
            "+ ----------------------------------- +\n"
          ]
        }
      ],
      "source": [
        "def borda(s1):\n",
        "  tam = len(s1)\n",
        "  #só imprime caso exista algum caractere\n",
        "  if tam:\n",
        "    print('+', '-' * tam, '+')\n",
        "    print('|', s1, '|')\n",
        "    print('+', '-' * tam, '+')\n",
        "\n",
        "#programa principal\n",
        "borda('Ola, mundo')\n",
        "borda('logica de programacao e algoritimos')\n"
      ]
    },
    {
      "cell_type": "markdown",
      "metadata": {
        "id": "dbjH-N01qOMj"
      },
      "source": [
        "# **Escopo de Variaveis**"
      ]
    },
    {
      "cell_type": "code",
      "execution_count": null,
      "metadata": {
        "colab": {
          "base_uri": "https://localhost:8080/"
        },
        "id": "_tpp5PIdpxSZ",
        "outputId": "5b87ca1f-ea10-4a54-99b1-74620d714100"
      },
      "outputs": [
        {
          "name": "stdout",
          "output_type": "stream",
          "text": [
            "12\n"
          ]
        }
      ],
      "source": [
        "def comida():\n",
        "  print(ovos)\n",
        "\n",
        "ovos = 12\n",
        "comida()\n"
      ]
    },
    {
      "cell_type": "code",
      "execution_count": null,
      "metadata": {
        "colab": {
          "base_uri": "https://localhost:8080/"
        },
        "id": "wyQ3HomQuC0c",
        "outputId": "522be863-194d-4c80-9598-30e63340052e"
      },
      "outputs": [
        {
          "name": "stdout",
          "output_type": "stream",
          "text": [
            "12\n"
          ]
        }
      ],
      "source": [
        "def comida():\n",
        "  ovos = 12\n",
        "  bacon()\n",
        "  print(ovos)\n",
        "\n",
        "def bacon():\n",
        "  ovos = 6\n",
        "\n",
        "comida()"
      ]
    },
    {
      "cell_type": "code",
      "execution_count": null,
      "metadata": {
        "colab": {
          "base_uri": "https://localhost:8080/"
        },
        "id": "kOkc8t5Buwq-",
        "outputId": "a4bfe961-9cd1-4669-c0cc-b79d1ec02a25"
      },
      "outputs": [
        {
          "name": "stdout",
          "output_type": "stream",
          "text": [
            "variavel local de bacon\n",
            "variavel local de comida\n",
            "variavel local de bacon\n",
            "variavel global\n"
          ]
        }
      ],
      "source": [
        "def comida():\n",
        "  ovos = 'variavel local de comida'\n",
        "  print(ovos)\n",
        "\n",
        "def bacon():\n",
        "  ovos = 'variavel local de bacon'\n",
        "  print(ovos)\n",
        "  comida()\n",
        "  print(ovos)\n",
        "\n",
        "ovos = 'variavel global'\n",
        "bacon()\n",
        "print(ovos)"
      ]
    },
    {
      "cell_type": "markdown",
      "metadata": {
        "id": "snGvv5W_vuCn"
      },
      "source": [
        "**Intrução global**"
      ]
    },
    {
      "cell_type": "code",
      "execution_count": null,
      "metadata": {
        "colab": {
          "base_uri": "https://localhost:8080/"
        },
        "id": "9Z5pRJINvxZ-",
        "outputId": "4c1a0eff-d9e5-46dc-8d9f-d2f62ca06647"
      },
      "outputs": [
        {
          "name": "stdout",
          "output_type": "stream",
          "text": [
            "comida\n"
          ]
        }
      ],
      "source": [
        "def comida():\n",
        "  global ovos\n",
        "  ovos = 'comida'\n",
        "\n",
        "ovos = 'global'\n",
        "comida()\n",
        "print(ovos)"
      ]
    },
    {
      "cell_type": "markdown",
      "metadata": {
        "id": "vNwJkae9wa3L"
      },
      "source": [
        "# **Retorno de valores em funções**"
      ]
    },
    {
      "cell_type": "code",
      "execution_count": null,
      "metadata": {
        "colab": {
          "base_uri": "https://localhost:8080/"
        },
        "id": "UVjKaEW_wkzb",
        "outputId": "e5995647-e665-40bf-a3fc-d9e2dcd4e7b7"
      },
      "outputs": [
        {
          "name": "stdout",
          "output_type": "stream",
          "text": [
            "6\n",
            "4\n"
          ]
        }
      ],
      "source": [
        "def soma3(x = 0, y = 0, z = 0):\n",
        "  res = x + y + z\n",
        "  return res\n",
        "\n",
        "#programa principal\n",
        "retornado = soma3(1,2,3)\n",
        "print(retornado)\n",
        "\n",
        "#forma alternativa simplificada\n",
        "print(soma3(2,2))\n"
      ]
    },
    {
      "cell_type": "code",
      "execution_count": null,
      "metadata": {
        "colab": {
          "base_uri": "https://localhost:8080/"
        },
        "id": "zzCUKWuDxjuj",
        "outputId": "00e6c26b-22ce-4fb7-f549-6cbcd7a6ffd3"
      },
      "outputs": [
        {
          "name": "stdout",
          "output_type": "stream",
          "text": [
            "Somatoria: 6, 3 e 0\n"
          ]
        }
      ],
      "source": [
        "#Programa principal\n",
        "retornado1 = soma3(1,2,3)\n",
        "retornado2 = soma3(1,2)\n",
        "retornado3 = soma3()\n",
        "print('Somatoria: {}, {} e {}.'.format(retornado1, retornado2, retornado3))"
      ]
    },
    {
      "cell_type": "markdown",
      "metadata": {
        "id": "KsxfC-u3x9LX"
      },
      "source": [
        "**Exercicio**"
      ]
    },
    {
      "cell_type": "code",
      "execution_count": null,
      "metadata": {
        "colab": {
          "base_uri": "https://localhost:8080/"
        },
        "id": "wH9VG9hHx-kM",
        "outputId": "df6bc44e-af0d-485d-90e5-5f7aff9cc287"
      },
      "outputs": [
        {
          "name": "stdout",
          "output_type": "stream",
          "text": [
            "Digite uma string:vabahsd\n",
            "Digite uma string:vanderson\n",
            "Digite uma string:vanderfsonj\n",
            "Você digitou a string: vanderfsonj \n",
            "dado valido. encerrando programa...\n"
          ]
        }
      ],
      "source": [
        "def valida_string(pergunta, min, max):\n",
        "  s1 = input(pergunta)\n",
        "  tam = len(s1)\n",
        "  while tam < min or tam > max :\n",
        "    s1 = input(pergunta)\n",
        "    tam = len(s1)\n",
        "  return s1\n",
        "\n",
        "x = valida_string('Digite uma string:',10,30)\n",
        "print('Você digitou a string: {} \\n dado valido. encerrando programa...'.format(x))"
      ]
    },
    {
      "cell_type": "markdown",
      "metadata": {
        "id": "yKdMVItI0d5W"
      },
      "source": [
        "**Exeção**"
      ]
    },
    {
      "cell_type": "code",
      "execution_count": null,
      "metadata": {
        "colab": {
          "base_uri": "https://localhost:8080/",
          "height": 171
        },
        "id": "b-Ui-Oe70cjL",
        "outputId": "0e87908b-5fe3-41c2-e2eb-b9079218db32"
      },
      "outputs": [
        {
          "ename": "ZeroDivisionError",
          "evalue": "ignored",
          "output_type": "error",
          "traceback": [
            "\u001b[0;31m---------------------------------------------------------------------------\u001b[0m",
            "\u001b[0;31mZeroDivisionError\u001b[0m                         Traceback (most recent call last)",
            "\u001b[0;32m<ipython-input-61-4e7a140b10ca>\u001b[0m in \u001b[0;36m<module>\u001b[0;34m()\u001b[0m\n\u001b[0;32m----> 1\u001b[0;31m \u001b[0;36m100\u001b[0m \u001b[0;34m*\u001b[0m \u001b[0;34m(\u001b[0m\u001b[0;36m2\u001b[0m\u001b[0;34m/\u001b[0m\u001b[0;36m0\u001b[0m\u001b[0;34m)\u001b[0m\u001b[0;34m\u001b[0m\u001b[0;34m\u001b[0m\u001b[0m\n\u001b[0m",
            "\u001b[0;31mZeroDivisionError\u001b[0m: division by zero"
          ]
        }
      ],
      "source": [
        "100 * (2/0)"
      ]
    },
    {
      "cell_type": "code",
      "execution_count": null,
      "metadata": {
        "colab": {
          "base_uri": "https://localhost:8080/",
          "height": 190
        },
        "id": "p4RJrOcS1DEd",
        "outputId": "568f91dc-d8ca-463a-ab2d-f4bce1f599c2"
      },
      "outputs": [
        {
          "name": "stdout",
          "output_type": "stream",
          "text": [
            "Digite um valor!s\n"
          ]
        },
        {
          "ename": "ValueError",
          "evalue": "ignored",
          "output_type": "error",
          "traceback": [
            "\u001b[0;31m---------------------------------------------------------------------------\u001b[0m",
            "\u001b[0;31mValueError\u001b[0m                                Traceback (most recent call last)",
            "\u001b[0;32m<ipython-input-64-b01d92fff567>\u001b[0m in \u001b[0;36m<module>\u001b[0;34m()\u001b[0m\n\u001b[0;32m----> 1\u001b[0;31m \u001b[0mx\u001b[0m \u001b[0;34m=\u001b[0m \u001b[0mint\u001b[0m\u001b[0;34m(\u001b[0m\u001b[0minput\u001b[0m\u001b[0;34m(\u001b[0m\u001b[0;34m'Digite um valor!'\u001b[0m\u001b[0;34m)\u001b[0m\u001b[0;34m)\u001b[0m\u001b[0;34m\u001b[0m\u001b[0;34m\u001b[0m\u001b[0m\n\u001b[0m",
            "\u001b[0;31mValueError\u001b[0m: invalid literal for int() with base 10: 's'"
          ]
        }
      ],
      "source": [
        "x = int(input('Digite um valor!'))"
      ]
    },
    {
      "cell_type": "code",
      "execution_count": null,
      "metadata": {
        "id": "7-ooTQVs1NLK"
      },
      "outputs": [],
      "source": [
        "while True:\n",
        "  try:\n",
        "    x = int(input('Digite um valor'))\n",
        "    break\n",
        "  except ValueError:\n",
        "    print('Oops! Numero invalido, Tente dnv')"
      ]
    },
    {
      "cell_type": "code",
      "execution_count": null,
      "metadata": {
        "colab": {
          "base_uri": "https://localhost:8080/"
        },
        "id": "WfOAlNrA1ulC",
        "outputId": "eaf327e2-0e2c-4778-f583-5a86860e0a6d"
      },
      "outputs": [
        {
          "name": "stdout",
          "output_type": "stream",
          "text": [
            "Digite um numero.0\n",
            "Digite outro numero.0\n",
            "Oops!  Erro de divisao por zero..\n",
            "Executara sempre!\n",
            "None\n"
          ]
        }
      ],
      "source": [
        "def div():\n",
        "  try:\n",
        "    num1 = int(input('Digite um numero.'))\n",
        "    num2 = int(input('Digite outro numero.'))\n",
        "    res = num1 / num2\n",
        "  except ZeroDivisionError:\n",
        "    print('Oops!  Erro de divisao por zero..')\n",
        "  except:\n",
        "    print('Algo de errado aconteceu..')\n",
        "  else:\n",
        "    return res \n",
        "  finally:\n",
        "    print('Executara sempre!')\n",
        "\n",
        "print(div())"
      ]
    },
    {
      "cell_type": "markdown",
      "metadata": {
        "id": "BIrUYv0V3M10"
      },
      "source": [
        "**Função como parametro de função**"
      ]
    },
    {
      "cell_type": "code",
      "execution_count": null,
      "metadata": {
        "colab": {
          "base_uri": "https://localhost:8080/"
        },
        "id": "CyEkJAoW3StM",
        "outputId": "b6f55cbb-bf73-4aaf-d807-ccd368e124ba"
      },
      "outputs": [
        {
          "name": "stdout",
          "output_type": "stream",
          "text": [
            "5\n"
          ]
        }
      ],
      "source": [
        "def imprime_com_condicao(num, fcond):\n",
        "  if fcond(num):\n",
        "    print(num)\n",
        "\n",
        "def par(x):\n",
        "  return x % 2 ==0\n",
        "def impar(x):\n",
        "  return not par(x)\n",
        "\n",
        "\n",
        "imprime_com_condicao(5, impar)"
      ]
    },
    {
      "cell_type": "markdown",
      "metadata": {
        "id": "Rc3U9gJm4NA9"
      },
      "source": [
        "**Função lambda**"
      ]
    },
    {
      "cell_type": "code",
      "execution_count": null,
      "metadata": {
        "colab": {
          "base_uri": "https://localhost:8080/"
        },
        "id": "2xw3Ty0m4Qfg",
        "outputId": "87dc7f13-fd99-4b40-f94f-30acad022ca1"
      },
      "outputs": [
        {
          "name": "stdout",
          "output_type": "stream",
          "text": [
            "9\n"
          ]
        }
      ],
      "source": [
        "res = lambda x: x * x\n",
        "print(res(3))"
      ]
    },
    {
      "cell_type": "code",
      "execution_count": null,
      "metadata": {
        "colab": {
          "base_uri": "https://localhost:8080/"
        },
        "id": "QQer1p_a4dSz",
        "outputId": "f741ca8c-9594-4373-b519-60140a288693"
      },
      "outputs": [
        {
          "name": "stdout",
          "output_type": "stream",
          "text": [
            "8\n"
          ]
        }
      ],
      "source": [
        "soma = lambda x, y: x + y\n",
        "print(soma(3,5))"
      ]
    },
    {
      "cell_type": "markdown",
      "metadata": {
        "id": "i5NV7tYZPuhn"
      },
      "source": [
        "# **Tupla**"
      ]
    },
    {
      "cell_type": "code",
      "execution_count": null,
      "metadata": {
        "colab": {
          "base_uri": "https://localhost:8080/"
        },
        "id": "4GtDd91iR4oR",
        "outputId": "bc4d92f0-2e7d-4b8d-fe87-1e6a802d1b53"
      },
      "outputs": [
        {
          "name": "stdout",
          "output_type": "stream",
          "text": [
            "('Machado', 'Comida', 'Bacon', 'Abacate')\n"
          ]
        }
      ],
      "source": [
        "mochila = ('Machado', 'Comida', 'Bacon', 'Abacate' )\n",
        "print(mochila)"
      ]
    },
    {
      "cell_type": "code",
      "execution_count": null,
      "metadata": {
        "colab": {
          "base_uri": "https://localhost:8080/"
        },
        "id": "iVQlnq1D4iFu",
        "outputId": "ee12a2b4-ccd7-4d39-8576-d945144d0ee9"
      },
      "outputs": [
        {
          "name": "stdout",
          "output_type": "stream",
          "text": [
            "Machado\n",
            "Bacon\n",
            "('Machado', 'Comida')\n",
            "('Bacon', 'Abacate')\n",
            "Abacate\n"
          ]
        }
      ],
      "source": [
        "print(mochila[0])   #print do elemento 1 - indice 0\n",
        "print(mochila[2])   #print do elemento 3 - indice 2\n",
        "print(mochila[0:2]) #print dos elementos 1 e 2 - indice 0 e 1\n",
        "print(mochila[2:])  #print dos elementos a partir do indice 2\n",
        "print(mochila[-1])  #print do ultimo elemento"
      ]
    },
    {
      "cell_type": "code",
      "execution_count": null,
      "metadata": {
        "colab": {
          "base_uri": "https://localhost:8080/",
          "height": 171
        },
        "id": "lDd6RpKjShUI",
        "outputId": "4dbb7e4f-84f3-4ef8-e76b-518b56f67670"
      },
      "outputs": [
        {
          "ename": "TypeError",
          "evalue": "ignored",
          "output_type": "error",
          "traceback": [
            "\u001b[0;31m---------------------------------------------------------------------------\u001b[0m",
            "\u001b[0;31mTypeError\u001b[0m                                 Traceback (most recent call last)",
            "\u001b[0;32m<ipython-input-9-2693385a520c>\u001b[0m in \u001b[0;36m<module>\u001b[0;34m()\u001b[0m\n\u001b[0;32m----> 1\u001b[0;31m \u001b[0mmochila\u001b[0m\u001b[0;34m[\u001b[0m\u001b[0;36m2\u001b[0m\u001b[0;34m]\u001b[0m \u001b[0;34m=\u001b[0m \u001b[0;34m'ovos'\u001b[0m\u001b[0;34m\u001b[0m\u001b[0;34m\u001b[0m\u001b[0m\n\u001b[0m",
            "\u001b[0;31mTypeError\u001b[0m: 'tuple' object does not support item assignment"
          ]
        }
      ],
      "source": [
        "mochila[2] = 'ovos'"
      ]
    },
    {
      "cell_type": "code",
      "execution_count": null,
      "metadata": {
        "colab": {
          "base_uri": "https://localhost:8080/"
        },
        "id": "vk0Yb8jmSby2",
        "outputId": "0392fef5-282d-46ad-f560-2a9ceaaddb47"
      },
      "outputs": [
        {
          "name": "stdout",
          "output_type": "stream",
          "text": [
            "Na minha mochila tem: Machado\n",
            "Na minha mochila tem: Comida\n",
            "Na minha mochila tem: Bacon\n",
            "Na minha mochila tem: Abacate\n"
          ]
        }
      ],
      "source": [
        "#Maneira mais simples\n",
        "for item in mochila:\n",
        "  print('Na minha mochila tem: {}'.format(item))"
      ]
    },
    {
      "cell_type": "code",
      "execution_count": null,
      "metadata": {
        "colab": {
          "base_uri": "https://localhost:8080/"
        },
        "id": "FeDnbVEkSnjH",
        "outputId": "75619cd2-d6f3-4451-e9b4-3e2771e1c2e2"
      },
      "outputs": [
        {
          "name": "stdout",
          "output_type": "stream",
          "text": [
            "Na minha mochila tem Machado\n",
            "Na minha mochila tem Comida\n",
            "Na minha mochila tem Bacon\n",
            "Na minha mochila tem Abacate\n"
          ]
        }
      ],
      "source": [
        "#Maneira com o Range\n",
        "tam = len(mochila)\n",
        "for i in range (0,tam,1):\n",
        "  print('Na minha mochila tem {}'.format(mochila[i]))"
      ]
    },
    {
      "cell_type": "code",
      "execution_count": null,
      "metadata": {
        "colab": {
          "base_uri": "https://localhost:8080/"
        },
        "id": "gW_gHRLYTGVF",
        "outputId": "c3cadd6b-258b-427e-99fb-da5d5b0ebd27"
      },
      "outputs": [
        {
          "name": "stdout",
          "output_type": "stream",
          "text": [
            "('Machado', 'Camisa', 'Bacon', 'Abacate')\n",
            "('Queijo', 'Canivete')\n",
            "('Machado', 'Camisa', 'Bacon', 'Abacate', 'Queijo', 'Canivete')\n"
          ]
        }
      ],
      "source": [
        "mochila = ('Machado', 'Camisa', 'Bacon', 'Abacate')\n",
        "upgrade = ('Queijo', 'Canivete')\n",
        "mochila_grande = mochila + upgrade\n",
        "\n",
        "print(mochila)\n",
        "print(upgrade)\n",
        "print(mochila_grande)\n",
        "\n"
      ]
    },
    {
      "cell_type": "code",
      "execution_count": null,
      "metadata": {
        "colab": {
          "base_uri": "https://localhost:8080/"
        },
        "id": "hkEn-RbCT4J3",
        "outputId": "36ee81f8-02d3-476f-e2dc-57227704e6f0"
      },
      "outputs": [
        {
          "name": "stdout",
          "output_type": "stream",
          "text": [
            "('Machado', 'Camisa', 'Bacon', 'Abacate', 'Queijo', 'Canivete')\n",
            "('Queijo', 'Canivete', 'Machado', 'Camisa', 'Bacon', 'Abacate')\n"
          ]
        }
      ],
      "source": [
        "mochila_grande_invertida = upgrade + mochila\n",
        "print(mochila_grande)\n",
        "print(mochila_grande_invertida)"
      ]
    },
    {
      "cell_type": "markdown",
      "metadata": {
        "id": "ZounCdoeURTq"
      },
      "source": [
        "**Desempacotamento de parametros em funções**"
      ]
    },
    {
      "cell_type": "code",
      "execution_count": null,
      "metadata": {
        "colab": {
          "base_uri": "https://localhost:8080/"
        },
        "id": "Fzr3mcacToFS",
        "outputId": "ef316253-1073-47c9-a845-f58bad63ee41"
      },
      "outputs": [
        {
          "name": "stdout",
          "output_type": "stream",
          "text": [
            "Tupla: (1, 2)\n",
            "Resultado: 3\n",
            "\n",
            "Tupla: (1, 2, 3, 4, 5, 6, 7, 8, 9)\n",
            "Resultado: 45\n",
            "\n"
          ]
        }
      ],
      "source": [
        "def soma (*num):\n",
        "  soma = 0\n",
        "  print ('Tupla: {}'.format(num))\n",
        "  for i in num:\n",
        "    soma += i\n",
        "  return soma\n",
        "\n",
        "#programa principal\n",
        "print('Resultado: {}\\n'.format(soma(1,2)))\n",
        "print('Resultado: {}\\n'.format(soma(1,2,3,4,5,6,7,8,9)))\n"
      ]
    },
    {
      "cell_type": "markdown",
      "metadata": {
        "id": "D0vcktyUVu70"
      },
      "source": [
        "# **Listas**"
      ]
    },
    {
      "cell_type": "code",
      "execution_count": null,
      "metadata": {
        "colab": {
          "base_uri": "https://localhost:8080/",
          "height": 226
        },
        "id": "hDsDCGVXV5TL",
        "outputId": "ed1ea20d-5411-44d0-9190-c8511e9c3366"
      },
      "outputs": [
        {
          "ename": "TypeError",
          "evalue": "ignored",
          "output_type": "error",
          "traceback": [
            "\u001b[0;31m---------------------------------------------------------------------------\u001b[0m",
            "\u001b[0;31mTypeError\u001b[0m                                 Traceback (most recent call last)",
            "\u001b[0;32m<ipython-input-49-174dddbf86e2>\u001b[0m in \u001b[0;36m<module>\u001b[0;34m()\u001b[0m\n\u001b[1;32m      1\u001b[0m \u001b[0mmochila\u001b[0m \u001b[0;34m=\u001b[0m \u001b[0;34m(\u001b[0m\u001b[0;34m'Mahcado'\u001b[0m\u001b[0;34m,\u001b[0m \u001b[0;34m'Camisa'\u001b[0m\u001b[0;34m,\u001b[0m \u001b[0;34m'Bacon'\u001b[0m\u001b[0;34m,\u001b[0m \u001b[0;34m'Abacate'\u001b[0m\u001b[0;34m)\u001b[0m\u001b[0;34m\u001b[0m\u001b[0;34m\u001b[0m\u001b[0m\n\u001b[0;32m----> 2\u001b[0;31m \u001b[0mprint\u001b[0m\u001b[0;34m(\u001b[0m\u001b[0;34m'Tupla: '\u001b[0m\u001b[0;34m,\u001b[0m \u001b[0mmochila\u001b[0m\u001b[0;34m)\u001b[0m\u001b[0;34m\u001b[0m\u001b[0;34m\u001b[0m\u001b[0m\n\u001b[0m\u001b[1;32m      3\u001b[0m \u001b[0mmochila\u001b[0m \u001b[0;34m=\u001b[0m \u001b[0;34m[\u001b[0m\u001b[0;34m'Machado'\u001b[0m\u001b[0;34m,\u001b[0m \u001b[0;34m'Camisa'\u001b[0m\u001b[0;34m,\u001b[0m \u001b[0;34m'Bacon'\u001b[0m\u001b[0;34m,\u001b[0m \u001b[0;34m'Abacate'\u001b[0m\u001b[0;34m]\u001b[0m\u001b[0;34m\u001b[0m\u001b[0;34m\u001b[0m\u001b[0m\n\u001b[1;32m      4\u001b[0m \u001b[0mprint\u001b[0m\u001b[0;34m(\u001b[0m\u001b[0;34m'Lista: '\u001b[0m\u001b[0;34m,\u001b[0m \u001b[0mmochila\u001b[0m\u001b[0;34m)\u001b[0m\u001b[0;34m\u001b[0m\u001b[0;34m\u001b[0m\u001b[0m\n",
            "\u001b[0;31mTypeError\u001b[0m: 'tuple' object is not callable"
          ]
        }
      ],
      "source": [
        "mochila = ('Mahcado', 'Camisa', 'Bacon', 'Abacate')\n",
        "print('Tupla: ', mochila)\n",
        "mochila = ['Machado', 'Camisa', 'Bacon', 'Abacate']\n",
        "print('Lista: ', mochila)"
      ]
    },
    {
      "cell_type": "code",
      "execution_count": null,
      "metadata": {
        "colab": {
          "base_uri": "https://localhost:8080/",
          "height": 190
        },
        "id": "1od3kv8VWkf8",
        "outputId": "36b32ced-0fde-4c64-efbc-645795e98ed0"
      },
      "outputs": [
        {
          "ename": "TypeError",
          "evalue": "ignored",
          "output_type": "error",
          "traceback": [
            "\u001b[0;31m---------------------------------------------------------------------------\u001b[0m",
            "\u001b[0;31mTypeError\u001b[0m                                 Traceback (most recent call last)",
            "\u001b[0;32m<ipython-input-50-aa894bd844a1>\u001b[0m in \u001b[0;36m<module>\u001b[0;34m()\u001b[0m\n\u001b[0;32m----> 1\u001b[0;31m \u001b[0mmochila\u001b[0m\u001b[0;34m[\u001b[0m\u001b[0;36m2\u001b[0m\u001b[0;34m]\u001b[0m \u001b[0;34m=\u001b[0m \u001b[0;34m'Laranja'\u001b[0m\u001b[0;34m\u001b[0m\u001b[0;34m\u001b[0m\u001b[0m\n\u001b[0m\u001b[1;32m      2\u001b[0m \u001b[0mprint\u001b[0m\u001b[0;34m(\u001b[0m\u001b[0;34m'Lista: '\u001b[0m\u001b[0;34m,\u001b[0m\u001b[0mmochila\u001b[0m\u001b[0;34m)\u001b[0m\u001b[0;34m\u001b[0m\u001b[0;34m\u001b[0m\u001b[0m\n",
            "\u001b[0;31mTypeError\u001b[0m: 'tuple' object does not support item assignment"
          ]
        }
      ],
      "source": [
        "mochila[2] = 'Laranja'\n",
        "print('Lista: ',mochila)"
      ]
    },
    {
      "cell_type": "markdown",
      "metadata": {
        "id": "cT-CH9azXCKI"
      },
      "source": [
        "**Manipulando listas**"
      ]
    },
    {
      "cell_type": "code",
      "execution_count": null,
      "metadata": {
        "colab": {
          "base_uri": "https://localhost:8080/"
        },
        "id": "FySbFfvuXB0J",
        "outputId": "096d96b8-ec92-47ca-e96f-44d5696a2dac"
      },
      "outputs": [
        {
          "name": "stdout",
          "output_type": "stream",
          "text": [
            "Lista:  ['Machado', 'Camisa', 'Laranja', 'Abacate', 'Ovos']\n"
          ]
        }
      ],
      "source": [
        "mochila.append('Ovos')\n",
        "print('Lista: ', mochila)\n"
      ]
    },
    {
      "cell_type": "code",
      "execution_count": null,
      "metadata": {
        "colab": {
          "base_uri": "https://localhost:8080/"
        },
        "id": "g3g49bQaXNLA",
        "outputId": "20c0162e-5019-4aef-e8ae-07e3a53efd79"
      },
      "outputs": [
        {
          "name": "stdout",
          "output_type": "stream",
          "text": [
            "Lista:  ['Machado', 'Canivete', 'Camisa', 'Laranja', 'Abacate', 'Ovos']\n"
          ]
        }
      ],
      "source": [
        "mochila.insert(1,'Canivete')\n",
        "print('Lista: ', mochila)\n"
      ]
    },
    {
      "cell_type": "code",
      "execution_count": null,
      "metadata": {
        "colab": {
          "base_uri": "https://localhost:8080/"
        },
        "id": "vKcKiIu3XYQE",
        "outputId": "57606770-9d72-4d47-96c8-b24c1692efe6"
      },
      "outputs": [
        {
          "name": "stdout",
          "output_type": "stream",
          "text": [
            "Lista:  ['Machado', 'Camisa', 'Laranja', 'Abacate', 'Ovos']\n",
            "Lista:  ['Machado', 'Camisa', 'Laranja', 'Abacate']\n"
          ]
        }
      ],
      "source": [
        "del mochila[1]\n",
        "print('Lista: ', mochila)\n",
        "mochila.remove('Ovos')\n",
        "print('Lista: ', mochila)"
      ]
    },
    {
      "cell_type": "markdown",
      "metadata": {
        "id": "oX0UVOyGYDZY"
      },
      "source": [
        "**Copia de listas**"
      ]
    },
    {
      "cell_type": "code",
      "execution_count": null,
      "metadata": {
        "colab": {
          "base_uri": "https://localhost:8080/",
          "height": 226
        },
        "id": "xtl0gWeHYGZ_",
        "outputId": "518fc83a-afe3-494c-ecc5-eb43e6c6f482"
      },
      "outputs": [
        {
          "ename": "TypeError",
          "evalue": "ignored",
          "output_type": "error",
          "traceback": [
            "\u001b[0;31m---------------------------------------------------------------------------\u001b[0m",
            "\u001b[0;31mTypeError\u001b[0m                                 Traceback (most recent call last)",
            "\u001b[0;32m<ipython-input-53-1d5688b5c86d>\u001b[0m in \u001b[0;36m<module>\u001b[0;34m()\u001b[0m\n\u001b[1;32m      2\u001b[0m \u001b[0mx\u001b[0m \u001b[0;34m=\u001b[0m \u001b[0;34m[\u001b[0m\u001b[0;36m5\u001b[0m\u001b[0;34m,\u001b[0m\u001b[0;36m7\u001b[0m\u001b[0;34m,\u001b[0m\u001b[0;36m9\u001b[0m\u001b[0;34m,\u001b[0m\u001b[0;36m11\u001b[0m\u001b[0;34m]\u001b[0m\u001b[0;34m\u001b[0m\u001b[0;34m\u001b[0m\u001b[0m\n\u001b[1;32m      3\u001b[0m \u001b[0my\u001b[0m \u001b[0;34m=\u001b[0m \u001b[0mx\u001b[0m\u001b[0;34m\u001b[0m\u001b[0;34m\u001b[0m\u001b[0m\n\u001b[0;32m----> 4\u001b[0;31m \u001b[0mprint\u001b[0m\u001b[0;34m(\u001b[0m\u001b[0mx\u001b[0m\u001b[0;34m)\u001b[0m\u001b[0;34m\u001b[0m\u001b[0;34m\u001b[0m\u001b[0m\n\u001b[0m\u001b[1;32m      5\u001b[0m \u001b[0mprint\u001b[0m\u001b[0;34m(\u001b[0m\u001b[0my\u001b[0m\u001b[0;34m)\u001b[0m\u001b[0;34m\u001b[0m\u001b[0;34m\u001b[0m\u001b[0m\n",
            "\u001b[0;31mTypeError\u001b[0m: 'tuple' object is not callable"
          ]
        }
      ],
      "source": [
        "#Mesma referencia\n",
        "x = [5,7,9,11]\n",
        "y = x\n",
        "print(x)\n",
        "print(y)"
      ]
    },
    {
      "cell_type": "code",
      "execution_count": null,
      "metadata": {
        "colab": {
          "base_uri": "https://localhost:8080/",
          "height": 208
        },
        "id": "RM0qHVd7Yap2",
        "outputId": "774208f0-7cd6-474f-95ad-fa4ea4f1e9ea"
      },
      "outputs": [
        {
          "ename": "TypeError",
          "evalue": "ignored",
          "output_type": "error",
          "traceback": [
            "\u001b[0;31m---------------------------------------------------------------------------\u001b[0m",
            "\u001b[0;31mTypeError\u001b[0m                                 Traceback (most recent call last)",
            "\u001b[0;32m<ipython-input-54-c4d738388261>\u001b[0m in \u001b[0;36m<module>\u001b[0;34m()\u001b[0m\n\u001b[1;32m      1\u001b[0m \u001b[0my\u001b[0m\u001b[0;34m[\u001b[0m\u001b[0;36m0\u001b[0m\u001b[0;34m]\u001b[0m \u001b[0;34m=\u001b[0m \u001b[0;36m2\u001b[0m\u001b[0;34m\u001b[0m\u001b[0;34m\u001b[0m\u001b[0m\n\u001b[0;32m----> 2\u001b[0;31m \u001b[0mprint\u001b[0m\u001b[0;34m(\u001b[0m\u001b[0mx\u001b[0m\u001b[0;34m)\u001b[0m\u001b[0;34m\u001b[0m\u001b[0;34m\u001b[0m\u001b[0m\n\u001b[0m\u001b[1;32m      3\u001b[0m \u001b[0mprint\u001b[0m\u001b[0;34m(\u001b[0m\u001b[0my\u001b[0m\u001b[0;34m)\u001b[0m\u001b[0;34m\u001b[0m\u001b[0;34m\u001b[0m\u001b[0m\n",
            "\u001b[0;31mTypeError\u001b[0m: 'tuple' object is not callable"
          ]
        }
      ],
      "source": [
        "y[0] = 2\n",
        "print(x)\n",
        "print(y)"
      ]
    },
    {
      "cell_type": "code",
      "execution_count": null,
      "metadata": {
        "colab": {
          "base_uri": "https://localhost:8080/"
        },
        "id": "0fmyLSmMYpNw",
        "outputId": "634dc7fc-08b6-4bba-952a-7372a55782b1"
      },
      "outputs": [
        {
          "name": "stdout",
          "output_type": "stream",
          "text": [
            "[5, 7, 9, 11]\n",
            "[5, 7, 9, 11]\n"
          ]
        }
      ],
      "source": [
        "#copia\n",
        "x = [5,7,9,11]\n",
        "y = x[:]\n",
        "print(x)\n",
        "print(y)\n",
        "\n"
      ]
    },
    {
      "cell_type": "code",
      "execution_count": null,
      "metadata": {
        "colab": {
          "base_uri": "https://localhost:8080/"
        },
        "id": "8JCiNSSYY-dF",
        "outputId": "6677843a-a779-455b-9e67-abb663512c38"
      },
      "outputs": [
        {
          "name": "stdout",
          "output_type": "stream",
          "text": [
            "[5, 7, 9, 11]\n",
            "[2, 7, 9, 11]\n"
          ]
        }
      ],
      "source": [
        "y[0] = 2\n",
        "print(x)\n",
        "print(y)"
      ]
    },
    {
      "cell_type": "markdown",
      "metadata": {
        "id": "9J2PF_z3ZOMC"
      },
      "source": [
        "# **Strings e listas dentro de listas**"
      ]
    },
    {
      "cell_type": "markdown",
      "metadata": {
        "id": "DyYd3T-8hdbY"
      },
      "source": [
        "**strings dentro de lis**tas"
      ]
    },
    {
      "cell_type": "code",
      "execution_count": null,
      "metadata": {
        "colab": {
          "base_uri": "https://localhost:8080/",
          "height": 190
        },
        "id": "GRSWV21adfuY",
        "outputId": "971518a9-fc54-4c79-f6fd-065f0a49f2ff"
      },
      "outputs": [
        {
          "ename": "TypeError",
          "evalue": "ignored",
          "output_type": "error",
          "traceback": [
            "\u001b[0;31m---------------------------------------------------------------------------\u001b[0m",
            "\u001b[0;31mTypeError\u001b[0m                                 Traceback (most recent call last)",
            "\u001b[0;32m<ipython-input-52-2ea1e103ee18>\u001b[0m in \u001b[0;36m<module>\u001b[0;34m()\u001b[0m\n\u001b[1;32m      1\u001b[0m \u001b[0mmochila\u001b[0m \u001b[0;34m=\u001b[0m \u001b[0;34m[\u001b[0m\u001b[0;34m'Machado'\u001b[0m\u001b[0;34m,\u001b[0m \u001b[0;34m'Camisa'\u001b[0m\u001b[0;34m,\u001b[0m \u001b[0;34m'Bacon'\u001b[0m\u001b[0;34m,\u001b[0m \u001b[0;34m'Abacate'\u001b[0m\u001b[0;34m]\u001b[0m\u001b[0;34m\u001b[0m\u001b[0;34m\u001b[0m\u001b[0m\n\u001b[0;32m----> 2\u001b[0;31m \u001b[0mprint\u001b[0m\u001b[0;34m(\u001b[0m\u001b[0mmochila\u001b[0m\u001b[0;34m[\u001b[0m\u001b[0;36m1\u001b[0m\u001b[0;34m]\u001b[0m\u001b[0;34m)\u001b[0m\u001b[0;34m\u001b[0m\u001b[0;34m\u001b[0m\u001b[0m\n\u001b[0m",
            "\u001b[0;31mTypeError\u001b[0m: 'tuple' object is not callable"
          ]
        }
      ],
      "source": [
        "mochila = ['Machado', 'Camisa', 'Bacon', 'Abacate']\n",
        "print(mochila[1])"
      ]
    },
    {
      "cell_type": "code",
      "execution_count": null,
      "metadata": {
        "colab": {
          "base_uri": "https://localhost:8080/",
          "height": 208
        },
        "id": "N9nMazG8aAWR",
        "outputId": "a1424293-0da3-4af0-916e-584b311e014e"
      },
      "outputs": [
        {
          "ename": "TypeError",
          "evalue": "ignored",
          "output_type": "error",
          "traceback": [
            "\u001b[0;31m---------------------------------------------------------------------------\u001b[0m",
            "\u001b[0;31mTypeError\u001b[0m                                 Traceback (most recent call last)",
            "\u001b[0;32m<ipython-input-56-8584dee661f6>\u001b[0m in \u001b[0;36m<module>\u001b[0;34m()\u001b[0m\n\u001b[1;32m      1\u001b[0m \u001b[0mmochila\u001b[0m \u001b[0;34m=\u001b[0m \u001b[0;34m[\u001b[0m\u001b[0;34m'Machado'\u001b[0m\u001b[0;34m,\u001b[0m \u001b[0;34m'Camisa'\u001b[0m\u001b[0;34m,\u001b[0m \u001b[0;34m'Bacon'\u001b[0m\u001b[0;34m,\u001b[0m \u001b[0;34m'Abacate'\u001b[0m\u001b[0;34m]\u001b[0m\u001b[0;34m\u001b[0m\u001b[0;34m\u001b[0m\u001b[0m\n\u001b[0;32m----> 2\u001b[0;31m \u001b[0mprint\u001b[0m\u001b[0;34m(\u001b[0m\u001b[0mmochila\u001b[0m\u001b[0;34m[\u001b[0m\u001b[0;36m0\u001b[0m\u001b[0;34m]\u001b[0m\u001b[0;34m[\u001b[0m\u001b[0;36m0\u001b[0m\u001b[0;34m]\u001b[0m\u001b[0;34m)\u001b[0m\u001b[0;34m\u001b[0m\u001b[0;34m\u001b[0m\u001b[0m\n\u001b[0m\u001b[1;32m      3\u001b[0m \u001b[0;34m\u001b[0m\u001b[0m\n",
            "\u001b[0;31mTypeError\u001b[0m: 'tuple' object is not callable"
          ]
        }
      ],
      "source": [
        "mochila = ['Machado', 'Camisa', 'Bacon', 'Abacate']\n",
        "print(mochila[0][0])\n",
        "\n"
      ]
    },
    {
      "cell_type": "code",
      "execution_count": null,
      "metadata": {
        "id": "a-XhB005gBh0"
      },
      "outputs": [],
      "source": [
        "#sem o range\n",
        "mochila = ['Machado', 'Camisa', 'Bacon', 'Abacate']\n",
        "for item in mochila:\n",
        "  for letra in item:\n",
        "    print(letra, end='')\n",
        "  print()"
      ]
    },
    {
      "cell_type": "code",
      "execution_count": null,
      "metadata": {
        "colab": {
          "base_uri": "https://localhost:8080/",
          "height": 226
        },
        "id": "eG9-LB6mhKe7",
        "outputId": "18884c1c-e115-424c-e953-29771d0abc4f"
      },
      "outputs": [
        {
          "ename": "TypeError",
          "evalue": "ignored",
          "output_type": "error",
          "traceback": [
            "\u001b[0;31m---------------------------------------------------------------------------\u001b[0m",
            "\u001b[0;31mTypeError\u001b[0m                                 Traceback (most recent call last)",
            "\u001b[0;32m<ipython-input-57-f1fb27083a1e>\u001b[0m in \u001b[0;36m<module>\u001b[0;34m()\u001b[0m\n\u001b[1;32m      3\u001b[0m \u001b[0;32mfor\u001b[0m \u001b[0mi\u001b[0m \u001b[0;32min\u001b[0m \u001b[0mrange\u001b[0m\u001b[0;34m(\u001b[0m\u001b[0;36m0\u001b[0m\u001b[0;34m,\u001b[0m\u001b[0mlen\u001b[0m\u001b[0;34m(\u001b[0m\u001b[0mmochila\u001b[0m\u001b[0;34m)\u001b[0m\u001b[0;34m,\u001b[0m\u001b[0;36m1\u001b[0m\u001b[0;34m)\u001b[0m\u001b[0;34m:\u001b[0m\u001b[0;34m\u001b[0m\u001b[0;34m\u001b[0m\u001b[0m\n\u001b[1;32m      4\u001b[0m     \u001b[0;32mfor\u001b[0m \u001b[0mj\u001b[0m \u001b[0;32min\u001b[0m \u001b[0mrange\u001b[0m\u001b[0;34m(\u001b[0m\u001b[0;36m0\u001b[0m\u001b[0;34m,\u001b[0m\u001b[0mlen\u001b[0m\u001b[0;34m(\u001b[0m\u001b[0mmochila\u001b[0m\u001b[0;34m[\u001b[0m\u001b[0mi\u001b[0m\u001b[0;34m]\u001b[0m\u001b[0;34m)\u001b[0m\u001b[0;34m,\u001b[0m\u001b[0;36m1\u001b[0m\u001b[0;34m)\u001b[0m\u001b[0;34m:\u001b[0m\u001b[0;34m\u001b[0m\u001b[0;34m\u001b[0m\u001b[0m\n\u001b[0;32m----> 5\u001b[0;31m         \u001b[0mprint\u001b[0m\u001b[0;34m(\u001b[0m\u001b[0mmochila\u001b[0m\u001b[0;34m[\u001b[0m\u001b[0mi\u001b[0m\u001b[0;34m]\u001b[0m\u001b[0;34m[\u001b[0m\u001b[0mj\u001b[0m\u001b[0;34m]\u001b[0m\u001b[0;34m,\u001b[0m \u001b[0mend\u001b[0m\u001b[0;34m=\u001b[0m\u001b[0;34m''\u001b[0m\u001b[0;34m)\u001b[0m\u001b[0;34m\u001b[0m\u001b[0;34m\u001b[0m\u001b[0m\n\u001b[0m\u001b[1;32m      6\u001b[0m     \u001b[0mprint\u001b[0m\u001b[0;34m(\u001b[0m\u001b[0;34m)\u001b[0m\u001b[0;34m\u001b[0m\u001b[0;34m\u001b[0m\u001b[0m\n",
            "\u001b[0;31mTypeError\u001b[0m: 'tuple' object is not callable"
          ]
        }
      ],
      "source": [
        "#com range\n",
        "mochila = ['Machado', 'Camisa', 'Bacon', 'Abacate']\n",
        "for i in range(0,len(mochila),1):\n",
        "    for j in range(0,len(mochila[i]),1):\n",
        "        print(mochila[i][j], end='')\n",
        "    print()"
      ]
    },
    {
      "cell_type": "markdown",
      "metadata": {
        "id": "ws764xSehjbc"
      },
      "source": [
        "**Lista dentro de listas**"
      ]
    },
    {
      "cell_type": "code",
      "execution_count": null,
      "metadata": {
        "id": "hUMbnhnehQpH"
      },
      "outputs": [],
      "source": [
        "item = []\n",
        "mercado = []\n",
        "\n",
        "for i in range(3):\n",
        "  item.append(input('Dite o nome do item: '))\n",
        "  item.append(int(input('Digite a quantidade: ')))\n",
        "  item.append(float(input('Digite o valor: ')))\n",
        "  mercado.append(item[:])\n",
        "  item.clear()\n",
        "print(mercado)"
      ]
    },
    {
      "cell_type": "code",
      "execution_count": null,
      "metadata": {
        "id": "WUeqlYJB4Lzh"
      },
      "outputs": [],
      "source": [
        "mercado = []\n",
        "for i in range(3):\n",
        "  nome = input('Digite o nome do item: ')\n",
        "  qtd = int(input('Digite a quantidade: '))\n",
        "  valor = float(input('Digite o valor: '))\n",
        "  mercado.append([nome, qtd, valor])\n",
        "print(mercado)\n"
      ]
    },
    {
      "cell_type": "code",
      "execution_count": null,
      "metadata": {
        "id": "Gbtssccw5Dyt"
      },
      "outputs": [],
      "source": [
        "soma = 0\n",
        "print('Lista de compras:')\n",
        "print('-'*20)\n",
        "print('Item | Quantidade | Valor unitario | Total do item')\n",
        "for item in mercado:\n",
        "  print('{} | {} | {}'.format(item[0], item[1], item[2], item[1] * item[2]))\n",
        "  soma += item[1] * item[2]\n",
        "print('-' * 20)\n",
        "prin('Toatl a ser pago: {}'.format(soma))"
      ]
    },
    {
      "cell_type": "markdown",
      "metadata": {
        "id": "Vw3HJHsx7fiM"
      },
      "source": [
        "# **Dicionario** values, keys e items"
      ]
    },
    {
      "cell_type": "code",
      "execution_count": null,
      "metadata": {
        "colab": {
          "base_uri": "https://localhost:8080/"
        },
        "id": "kySmnIHy7rO3",
        "outputId": "c033e796-664d-416e-9f48-2e719a54492b"
      },
      "outputs": [
        {
          "name": "stdout",
          "output_type": "stream",
          "text": [
            "{'Nome': 'Super mario', 'Desenvolvedora': 'Nitendio', 'Ano': 1990}\n"
          ]
        }
      ],
      "source": [
        "game = {'Nome': 'Super mario',\n",
        "        'Desenvolvedora': 'Nitendio',\n",
        "        'Ano': 1990}\n",
        "print(game)"
      ]
    },
    {
      "cell_type": "code",
      "execution_count": null,
      "metadata": {
        "colab": {
          "base_uri": "https://localhost:8080/"
        },
        "id": "TXte4yIU8Zjz",
        "outputId": "9d907d61-82f0-477f-f60e-4ae15453b02f"
      },
      "outputs": [
        {
          "name": "stdout",
          "output_type": "stream",
          "text": [
            "Super mario\n",
            "Nitendio\n",
            "1990\n"
          ]
        }
      ],
      "source": [
        "print(game['Nome'])\n",
        "print(game['Desenvolvedora'])\n",
        "print(game['Ano'])"
      ]
    },
    {
      "cell_type": "code",
      "execution_count": null,
      "metadata": {
        "colab": {
          "base_uri": "https://localhost:8080/"
        },
        "id": "n6Bvdmu88uhC",
        "outputId": "c25e9311-9690-41e6-c264-5f1bfea19fa5"
      },
      "outputs": [
        {
          "name": "stdout",
          "output_type": "stream",
          "text": [
            "dict_values(['Super mario', 'Nitendio', 1990])\n",
            "Super mario\n",
            "Nitendio\n",
            "1990\n"
          ]
        }
      ],
      "source": [
        "print(game.values())\n",
        "\n",
        "for i in game.values():\n",
        "    print(i)"
      ]
    },
    {
      "cell_type": "code",
      "execution_count": null,
      "metadata": {
        "colab": {
          "base_uri": "https://localhost:8080/"
        },
        "id": "xbD2B6wy-Dk1",
        "outputId": "8c7430ea-bf6b-41ac-c469-a39e30d93ea7"
      },
      "outputs": [
        {
          "name": "stdout",
          "output_type": "stream",
          "text": [
            "dict_keys(['Nome', 'Desenvolvedora', 'Ano'])\n",
            "Nome\n",
            "Desenvolvedora\n",
            "Ano\n"
          ]
        }
      ],
      "source": [
        "print(game.keys())\n",
        "\n",
        "for i in game.keys():\n",
        "    print(i)"
      ]
    },
    {
      "cell_type": "code",
      "execution_count": null,
      "metadata": {
        "colab": {
          "base_uri": "https://localhost:8080/"
        },
        "id": "YjmYuBBv-Erl",
        "outputId": "2177af5b-e052-421f-b2d1-7b3fb68beba9"
      },
      "outputs": [
        {
          "name": "stdout",
          "output_type": "stream",
          "text": [
            "dict_items([('Nome', 'Super mario'), ('Desenvolvedora', 'Nitendio'), ('Ano', 1990)])\n",
            "Nome = Super mario\n",
            "Desenvolvedora = Nitendio\n",
            "Ano = 1990\n"
          ]
        }
      ],
      "source": [
        "print(game.items())\n",
        "\n",
        "for i, j in game.items():\n",
        "    print('{} = {}'.format(i, j))"
      ]
    },
    {
      "cell_type": "code",
      "execution_count": null,
      "metadata": {
        "colab": {
          "base_uri": "https://localhost:8080/"
        },
        "id": "B0A2LDZI-dxQ",
        "outputId": "28bd4033-226c-4c64-efb7-acb6592c6db0"
      },
      "outputs": [
        {
          "name": "stdout",
          "output_type": "stream",
          "text": [
            "{'Nome': ['Call', 'Duty', 'Black'], 'Videogame': ['2012', '2011', 'Play'], 'Ano': ['Ubsofit', '2013', '2011']}\n"
          ]
        }
      ],
      "source": [
        "game = []\n",
        "game1 = {'Nome': 'Super mario',\n",
        "        'videogame': 'Super Nitendo',\n",
        "        'Ano': 1990}\n",
        "game2 = {'Nome': 'Zelda',\n",
        "        'videogame': 'Nitendo 64',\n",
        "        'Ano': 1998}\n",
        "game3 = {'Nome': 'Pokemon',\n",
        "        'videogame': 'Game Boy',\n",
        "        'Ano': 1999}\n",
        "game = [game1, game2, game3]\n",
        "print(games)"
      ]
    },
    {
      "cell_type": "code",
      "execution_count": null,
      "metadata": {
        "id": "VSBLTwiG_hNv"
      },
      "outputs": [],
      "source": [
        "game = {}\n",
        "games = []\n",
        "for i in range(3):\n",
        "  game['Nome'] = input('Qual o nome do jogo?')\n",
        "  game['Videogame'] = input('Para qual videogame ele foi lançado?')\n",
        "  game['ano'] = input('Qual ano do lançamento')\n",
        "  games.append(game.copy())\n",
        "print('-' * 20)\n",
        "for e in games:\n",
        "  for i, j in e.items():\n",
        "    print('O campo{} tem o valor {}'.format(i,j))"
      ]
    },
    {
      "cell_type": "code",
      "execution_count": null,
      "metadata": {
        "colab": {
          "base_uri": "https://localhost:8080/",
          "height": 148
        },
        "id": "LYGGCfkYBE47",
        "outputId": "e6e28a12-ac7a-41bd-806a-1332cd38af0c"
      },
      "outputs": [
        {
          "ename": "SyntaxError",
          "evalue": "ignored",
          "output_type": "error",
          "traceback": [
            "\u001b[0;36m  File \u001b[0;32m\"<ipython-input-11-5bb56281708f>\"\u001b[0;36m, line \u001b[0;32m3\u001b[0m\n\u001b[0;31m    'Ano': [1990, 1998, 1999]}\u001b[0m\n\u001b[0m        ^\u001b[0m\n\u001b[0;31mSyntaxError\u001b[0m\u001b[0;31m:\u001b[0m invalid syntax\n"
          ]
        }
      ],
      "source": [
        "games = {'Nome':['Super mario', 'Zelda', 'Pokemon'],\n",
        "         'Videogame': ['Super Nintendo', 'Nintendo 64', 'GB']\n",
        "         'Ano': [1990, 1998, 1999]}\n",
        "print(games)"
      ]
    },
    {
      "cell_type": "code",
      "execution_count": null,
      "metadata": {
        "id": "M--uOEZFB89t"
      },
      "outputs": [],
      "source": [
        "games = {'Nome':[], 'Videogame': [], 'Ano': []}\n",
        "for i in range(3):\n",
        "  nome = input('Qual o nome do jogo?')\n",
        "  videogame = input('Para qual videogame foi lançado?')\n",
        "  ano = input('Qual o ano do lançamento?')\n",
        "  games['Nome'].append(nome)\n",
        "  games['Videogame'].append(videogame)\n",
        "  games['Ano'].append(ano)\n",
        "print('-'*20)\n",
        "print(games)"
      ]
    },
    {
      "cell_type": "markdown",
      "metadata": {
        "id": "RnRk5mlKD3pG"
      },
      "source": [
        "# **Trabalhando metodos em strings**"
      ]
    },
    {
      "cell_type": "code",
      "execution_count": null,
      "metadata": {
        "colab": {
          "base_uri": "https://localhost:8080/"
        },
        "id": "pGhCXW08D9Nm",
        "outputId": "4c5faf9d-85b3-4ca8-e24f-67395a629e4a"
      },
      "outputs": [
        {
          "name": "stdout",
          "output_type": "stream",
          "text": [
            "['A', 'l', 'g', 'o', 'r', 'i', 't', 'i', 'm', 'o', 's']\n",
            "Algoritimos\n",
            "algoritimos\n"
          ]
        }
      ],
      "source": [
        "s1 = list('Algoritimos')\n",
        "print(s1)\n",
        "print(''.join(s1))\n",
        "s1[0] = 'a'\n",
        "print(''.join(s1))"
      ]
    },
    {
      "cell_type": "code",
      "execution_count": null,
      "metadata": {
        "colab": {
          "base_uri": "https://localhost:8080/"
        },
        "id": "KCdzXrVVXPuH",
        "outputId": "685dd2dd-6df0-4bad-9cee-970b6b0113cc"
      },
      "outputs": [
        {
          "name": "stdout",
          "output_type": "stream",
          "text": [
            "88\n",
            "84\n",
            "80\n",
            "76\n",
            "72\n",
            "68\n",
            "64\n",
            "60\n",
            "56\n",
            "52\n",
            "48\n",
            "44\n",
            "40\n",
            "36\n",
            "32\n",
            "28\n",
            "24\n",
            "20\n",
            "16\n",
            "12\n",
            "8\n",
            "4\n",
            "0\n"
          ]
        }
      ],
      "source": [
        "i = 88\n",
        "while (i >=0):\n",
        " print(i)\n",
        " i -= 4"
      ]
    },
    {
      "cell_type": "code",
      "execution_count": null,
      "metadata": {
        "colab": {
          "base_uri": "https://localhost:8080/",
          "height": 148
        },
        "id": "ehrvtUAmXCz_",
        "outputId": "0f1c9b98-0a46-4945-90af-0ecd48215335"
      },
      "outputs": [
        {
          "ename": "SyntaxError",
          "evalue": "ignored",
          "output_type": "error",
          "traceback": [
            "\u001b[0;36m  File \u001b[0;32m\"<ipython-input-19-d71b717c15f3>\"\u001b[0;36m, line \u001b[0;32m2\u001b[0m\n\u001b[0;31m    while x > 100 or x <-100:\u001b[0m\n\u001b[0m        ^\u001b[0m\n\u001b[0;31mSyntaxError\u001b[0m\u001b[0;31m:\u001b[0m invalid syntax\n"
          ]
        }
      ],
      "source": [
        "x = int(input('Digite um valor: ')\n",
        "while x > 100 or x <-100:\n",
        " x = int(input('Digite um valor: ')\n",
        "print('encerrando...')"
      ]
    },
    {
      "cell_type": "code",
      "execution_count": null,
      "metadata": {
        "colab": {
          "base_uri": "https://localhost:8080/"
        },
        "id": "ThqhBuocAHjr",
        "outputId": "0aad7fd4-312d-4e2f-a507-9427079afdc4"
      },
      "outputs": [
        {
          "name": "stdout",
          "output_type": "stream",
          "text": [
            "Nome da criança: vanderson\n",
            "Idade: 10\n",
            "A vanderson tem 10 anos e está no Ensino Fundamental I.\n",
            "Deseja continuar?  0 - Não      1 - Sim\n",
            "r: 1\n",
            "Nome da criança: vanderson\n",
            "Idade: 10\n",
            "A vanderson tem 10 anos e está no Ensino Fundamental I.\n",
            "Deseja continuar?  0 - Não      1 - Sim\n",
            "r: 0\n",
            "Processo finalizado!\n"
          ]
        }
      ],
      "source": [
        "\n",
        "while True:\n",
        "    #Dados de entrada\n",
        "    n = input('Nome da criança: ')\n",
        "    i = int(input('Idade: '))\n",
        "    #Programa principal\n",
        "    if i >= 1 and i <= 5:\n",
        "        print('A {} tem {} anos e está no Ensino infantil.'.format(n, i))\n",
        "    elif i >= 6 and i <= 10:\n",
        "        print('A {} tem {} anos e está no Ensino Fundamental I.'.format(n, i))\n",
        "\n",
        "    elif i >= 11 and i <= 14:\n",
        "        print('A {} tem {} anos e está no Ensino Fundamental II.'.format(n, i))\n",
        "\n",
        "    elif i >= 15:\n",
        "        print('A {} tem {} anos e está no Ensino Médio.'.format(n, i))\n",
        "    #Opção de saida do programa\n",
        "    print('Deseja continuar?  0 - Não      1 - Sim')\n",
        "    r = int(input('r: '))\n",
        "\n",
        "    if r == 0:\n",
        "        print('Processo finalizado!')\n",
        "        break"
      ]
    },
    {
      "cell_type": "code",
      "execution_count": null,
      "metadata": {
        "id": "1MRUdnCazlsr"
      },
      "outputs": [],
      "source": [
        "def convert_letter(letter):\n",
        "    letter = letter.upper()\n",
        "    if letter == A :\n",
        "        return '@'\n",
        "    if letter == E:\n",
        "        return'&'\n",
        "    if letter == I:\n",
        "        return '!'\n",
        "    if letter == O:\n",
        "        return'#'\n",
        "    if letter == U:\n",
        "        return '*'\n",
        "\n",
        "def main():\n",
        "    nome = input('Digite seu nome: ')\n",
        "    new_name = ''\n",
        "    for i in nome:\n",
        "        print(i.upper())\n",
        "        if i.upper() =='A' or i.upper() == 'E' or i.upper() =='I' or i.upper() == 'O' or i.upper() == 'U' :\n",
        "            new_name += convert_letter(i.upper())\n",
        "        else:\n",
        "            new_name +=i.upper()\n",
        "        print(new_name)\n",
        "    main()"
      ]
    },
    {
      "cell_type": "code",
      "execution_count": null,
      "metadata": {
        "colab": {
          "base_uri": "https://localhost:8080/"
        },
        "id": "nRdP4oPspFTf",
        "outputId": "2b847f27-5284-4bb9-f48a-4421c203704e"
      },
      "outputs": [
        {
          "name": "stdout",
          "output_type": "stream",
          "text": [
            "Entre com uma frase:abc\n",
            "!?#\n"
          ]
        }
      ],
      "source": [
        "def convert_letter(letter):\n",
        "\n",
        "  letter = {\n",
        "    'a':'!',\n",
        "    'b':'?',\n",
        "    'c':'#',\n",
        "    'd':'*',\n",
        "    'e':'!',\n",
        "  }\n",
        "phrase = input('Entre com uma frase:')\n",
        "text = ''\n",
        "\n",
        "for i in phrase:\n",
        "  text += letter[i]\n",
        "\n",
        "print(text)"
      ]
    },
    {
      "cell_type": "code",
      "execution_count": null,
      "metadata": {
        "colab": {
          "base_uri": "https://localhost:8080/"
        },
        "id": "xWSnGFxap4My",
        "outputId": "aa846b72-6430-4ada-f752-e4902c8a3200"
      },
      "outputs": [
        {
          "name": "stdout",
          "output_type": "stream",
          "text": [
            "Digite seu nome: vanderson\n",
            "V@ND&RS#N\n"
          ]
        }
      ],
      "source": [
        "#Função Utilizada\n",
        "def convert_letter(letter):\n",
        "#Programa principal\n",
        "   letter = letter.upper()\n",
        "   if(letter == 'A'):\n",
        "       return '@'\n",
        "\n",
        "   if(letter == 'E'):\n",
        "       return '&'\n",
        "   if(letter == 'I'):\n",
        "\n",
        "       return '!'\n",
        "   if(letter == 'O'):\n",
        "\n",
        "       return '#'\n",
        "   if(letter == 'U'):\n",
        "\n",
        "       return '*'\n",
        "def main():\n",
        "    #Dados de entrada\n",
        "   n = input(\"Digite seu nome: \")\n",
        "   new_n = ''\n",
        "   for i in n:\n",
        "        #Função para verificar se é uma vogal.\n",
        "       if(i.upper() == 'A' or i.upper() == 'E' or i.upper() == 'I' or i.upper() == 'O' or i.upper() == 'U'):\n",
        "            #Função para converter as letras para os simbolos.\n",
        "           new_n += convert_letter(i.upper())\n",
        "       else:\n",
        "           new_n += i.upper()\n",
        "   print(new_n)\n",
        "if __name__ == '__main__':\n",
        "   main()"
      ]
    },
    {
      "cell_type": "code",
      "execution_count": null,
      "metadata": {
        "id": "DgnkUtERzH5e"
      },
      "outputs": [],
      "source": [
        "soma = 0\n",
        "print('HOTEL DOS ANIMAIS:')\n",
        "print('Especificando posição:')\n",
        "print('[1,2,3,4]')\n",
        "print('[5,6,7,8]')\n",
        "print('Bem vindo a fase 1')\n",
        "print('Na Fase 1, o jogador deve alocar o RATO e o GATO na seguinte matriz que representa os quartos:')\n",
        "print('*', '*', '_', 'G')\n",
        "\n",
        "for item in mercado:\n",
        "  print('{} | {} | {}'.format(item[0], item[1], item[2], item[1] * item[2]))\n",
        "  soma += item[1] * item[2]\n",
        "print('-' * 20)\n",
        "prin('Toatl a ser pago: {}'.format(soma))"
      ]
    },
    {
      "cell_type": "code",
      "execution_count": null,
      "metadata": {
        "id": "NwmZyT6AzIuD"
      },
      "outputs": [],
      "source": [
        "# funcao inicais\n",
        "def posicoes():\n",
        "    print('____HOTEL DOS ANIMAIS____')\n",
        "    print('Especificando Posições')\n",
        "    print('[1 2 3 4]')\n",
        "    print('[5 6 7 8]')\n",
        "# funcao para mensagens\n",
        "def msgPerdeu():\n",
        "    print('Você perdeu!!')\n",
        "def msgVitoria():\n",
        "    print('Você ganhou!!')\n",
        "# funcoes para as fases\n",
        "def fase01():\n",
        "    v = [\"*\", \"*\", \"G\", \"G\", \"R\", \"R\", \"*\", \"*\"]\n",
        "    f = [\"*\", \"*\", \"_\", \"G\", \"R\", \"_\", \"*\", \"*\"]\n",
        "    h = ('Rato', 'Gato')\n",
        "    print('Bem vindo a fase 01!')\n",
        "    print('Na Fase 1, o jogador deve alocar o RATO e o GATO na seguinte matriz que representa os quartos:')\n",
        "    print(f[:4])\n",
        "    print(f[4:])\n",
        "    for h in h:\n",
        "        l = int(input(\"Em qual posição quer colocar o \" + h +\"? \"))\n",
        "        f[l - 1] = h[0]\n",
        "    return False if v == f else True\n",
        "def fase02():\n",
        "    v = [\"'O\", \"*\", \"*\", \"*\", \"*\", \"C\", \"C\", \"C\"]\n",
        "    f = [\"_\", \"*\", \"*\", \"*\", \"*\", \"C\", \"_\", \"_\"]\n",
        "    h = ('Cão', 'Cão', 'Osso')\n",
        "    print('Bem vindo a fase 02!')\n",
        "    print('Na segunda fase o jogador deve alocar : CÃO, CÃO E OSSO. )')\n",
        "    print(f[:4])\n",
        "    print(f[4:])\n",
        "    for h in h:\n",
        "        l = int(input(\"Em qual posição quer colocar o  \" + h + \"? \"))\n",
        "        f[l - 1] = h[0]\n",
        "    return False if v == f else True\n",
        "def fase03():\n",
        "    v = [\"R\", \"*\", \"*\", \"*\", \"O\", \"G\", \"G\", \"*\"]\n",
        "    f = [\"_\", \"*\", \"*\", \"*\", \"_\", \"G\", \"_\", \"*\"]\n",
        "    h = (\"Gato\", \"Rato\", \"Osso\")\n",
        "    print('Bem vindo a fase 03!')\n",
        "    print('Na fase 3 o jogador deverá alocar : GATO, RATO E OSSO.')\n",
        "    print(f[:4])\n",
        "    print(f[4:])\n",
        "    for h in h:\n",
        "        l = int(input(\"Em qual posição quer colocar o \" + h + \"? \"))\n",
        "        f[l - 1] = h[0]\n",
        "    return False if v == f else True\n",
        "def fase04():\n",
        "    v = [\"Q\", \"O\", \"Q\", \"*\", \"*\", \"R\", \"*\", \"*\"]\n",
        "    f = [\"_\", \"_\", \"_\", \"*\", \"*\", \"R\", \"*\", \"*\"]\n",
        "    h = ('Queijo', 'Queijo', 'Osso')\n",
        "    print('Bem vindo a fase 04!')\n",
        "    print('Na fase 4, o jogador deverá alocar: QUEIJO, QUEIJO, OSSO.')\n",
        "    print(f[:4])\n",
        "    print(f[4:])\n",
        "    for h in h:\n",
        "        l = int(input(\"Em qual posição quer colocar o \" + h + \"? \"))\n",
        "        f[l - 1] = h[0]\n",
        "    return False if v == f else True\n",
        "#Funcoes do loop\n",
        "posicoes()\n",
        "while True:\n",
        "    f = fase01()\n",
        "    if f:\n",
        "        msgPerdeu()\n",
        "        break\n",
        "    f = fase02()\n",
        "    if f:\n",
        "        msgPerdeu()\n",
        "        break\n",
        "    f = fase03()\n",
        "    if f:\n",
        "        msgPerdeu()\n",
        "        break\n",
        "    f = fase04()\n",
        "    if f:\n",
        "        msgPerdeu()\n",
        "        break\n",
        "    else:\n",
        "        msgVitoria()\n",
        "        break"
      ]
    },
    {
      "cell_type": "code",
      "execution_count": null,
      "metadata": {
        "colab": {
          "background_save": true,
          "base_uri": "https://localhost:8080/"
        },
        "id": "scgnuIMSTYSO",
        "outputId": "b618eb79-ece2-498a-db51-68953cce047a"
      },
      "outputs": [
        {
          "output_type": "stream",
          "name": "stdout",
          "text": [
            "************* Menu **************\n",
            "1 - Nova inscrição\n",
            "2 - Visualizar inscrição\n",
            "0 - Encerrar\n",
            "Opção escolhida: 1\n",
            "Digite seu Nome: vander\n",
            "Digite Email: vander\n",
            "Digite Telefone: 265\n",
            "Digite Curso: sss\n",
            "************* Menu **************\n",
            "1 - Nova inscrição\n",
            "2 - Visualizar inscrição\n",
            "0 - Encerrar\n",
            "Opção escolhida: 2\n",
            "'''''''''''''''''Lista de Inscritos''''''''''''''''''\n",
            "Voucher:  177\n",
            "Nome:  vander\n",
            "Email:  vander\n",
            "Telefone:  265\n",
            "Curso:  sss\n",
            "************* Menu **************\n",
            "1 - Nova inscrição\n",
            "2 - Visualizar inscrição\n",
            "0 - Encerrar\n"
          ]
        }
      ],
      "source": [
        "#Função para gerar Numeros de Voucher aleatórios\n",
        "from random import seed\n",
        "from random import randint\n",
        "\n",
        "#função para gerar vouchers\n",
        "def gerarVouchers(q):\n",
        "    v=[]\n",
        "    seed(100)\n",
        "    for i in range (1,q):\n",
        "        v.append(randint(100, 400))\n",
        "    return v\n",
        "\n",
        "#Dados de entrada\n",
        "def novaInscricao(v):\n",
        "    i = {'Voucher': '', 'Nome': '', 'Email': '', 'Telefone': '', 'Curso': ''}\n",
        "    i['Voucher'] = v\n",
        "    i['Nome'] = input('Digite seu Nome: ')\n",
        "    i['Email'] = input('Digite Email: ')\n",
        "    i['Telefone'] = input('Digite Telefone: ')\n",
        "    i['Curso'] = input('Digite Curso: ')\n",
        "    return i\n",
        "\n",
        "#função para exibir as informações\n",
        "def listar(i):\n",
        "    print(\"'''''''''''''''''Lista de Inscritos''''''''''''''''''\")\n",
        "    for i in i:\n",
        "        print(\"Voucher: \", i['Voucher'])\n",
        "        print(\"Nome: \", i['Nome'])\n",
        "        print(\"Email: \", i['Email'])\n",
        "        print(\"Telefone: \", i['Telefone'])\n",
        "        print(\"Curso: \", i['Curso'])\n",
        "\n",
        "\n",
        "#função para exibir o menu\n",
        "def menu():\n",
        "    print('************* Menu **************')\n",
        "    print('1 - Nova inscrição')\n",
        "    print('2 - Visualizar inscrição')\n",
        "    print('0 - Encerrar')\n",
        "    o = input(\"Opção escolhida: \")\n",
        "    return int(o)\n",
        "\n",
        "v = gerarVouchers(100)\n",
        "i = []\n",
        "while True:\n",
        "    o = menu()\n",
        "    if o == 0:\n",
        "        break\n",
        "    elif o == 1:\n",
        "        i.append(novaInscricao(v.pop()))\n",
        "    elif o == 2:\n",
        "        if len(i) == 0:\n",
        "            print(\"Nenhuma inscrição cadastrada\")\n",
        "        else:\n",
        "            listar(i)\n",
        "    else:\n",
        "        print(\"Opção invalida, escolha novamente!\")"
      ]
    },
    {
      "cell_type": "code",
      "source": [
        "wait (10)\n",
        "\n",
        "local spawntime = 3 -- the spawn time in seconds\n",
        "local spawnrate = 1 -- per spawn time\n",
        "\n",
        "local pS = game:GetService (\"PhysicsService\")\n",
        "pS:CreateColissionGroup (\"Minions\")\n",
        "pS:CollisionGroupSetCollidable (\"Minions\", \"Minions\", false)\n",
        "\n",
        "while script.Parent.building.Health.Value > 0 do\n",
        "\twait(spawntime)\n",
        "\t\n",
        "\tfor i = 1, spawnrate do\n",
        "\t\twait()\n",
        "\t\t\n",
        "\t\t\n",
        "\t\t\n",
        "\t\t\n",
        "\t\tlocal dummy = game:GetService(\"ReplicatedStorage\").Minions:GetChildren () [math.random(1, #game:GetService(\"ReplicatedStorage\").Minions:GetChildren())]:clone()\n",
        "        dummy.parent = script.Parent.Minions\n",
        "for i, v in pairs (script.parent:GetChildren()) do\n",
        "\tif v:IsA (\"MeshPart\") or v:IsA(\"Part\") then\n",
        "\t\tpS:SetPartColissionGroup(v, \"Minions\"\n",
        "\tend\n",
        "end\n",
        "dummy.humanoidRootPart.CFrame = script.parent.spawn.CFrame\n",
        "\t\t\n",
        "\tend\n",
        "end\n"
      ],
      "metadata": {
        "id": "4ozcXcZ-qB72",
        "colab": {
          "base_uri": "https://localhost:8080/",
          "height": 131
        },
        "outputId": "b6cba60f-4fec-4832-8c51-255ec2fc4534"
      },
      "execution_count": 1,
      "outputs": [
        {
          "output_type": "error",
          "ename": "SyntaxError",
          "evalue": "ignored",
          "traceback": [
            "\u001b[0;36m  File \u001b[0;32m\"<ipython-input-1-fcfd029e629a>\"\u001b[0;36m, line \u001b[0;32m3\u001b[0m\n\u001b[0;31m    local spawntime = 3 -- the spawn time in seconds\u001b[0m\n\u001b[0m          ^\u001b[0m\n\u001b[0;31mSyntaxError\u001b[0m\u001b[0;31m:\u001b[0m invalid syntax\n"
          ]
        }
      ]
    }
  ],
  "metadata": {
    "colab": {
      "provenance": []
    },
    "kernelspec": {
      "display_name": "Python 3",
      "name": "python3"
    },
    "language_info": {
      "name": "python"
    }
  },
  "nbformat": 4,
  "nbformat_minor": 0
}